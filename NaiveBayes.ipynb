{
  "nbformat": 4,
  "nbformat_minor": 0,
  "metadata": {
    "colab": {
      "name": "NaiveBayes.ipynb",
      "provenance": [],
      "collapsed_sections": []
    },
    "kernelspec": {
      "name": "python3",
      "display_name": "Python 3"
    }
  },
  "cells": [
    {
      "cell_type": "code",
      "metadata": {
        "id": "4Viz6D8BEAWC"
      },
      "source": [
        "import pandas as pd\n",
        "import numpy as np\n",
        "df = pd.read_csv('./heart_failure_clinical_records_dataset.csv')"
      ],
      "execution_count": null,
      "outputs": []
    },
    {
      "cell_type": "code",
      "metadata": {
        "id": "yLErcKldFQJT"
      },
      "source": [
        "X = df.drop(\"DEATH_EVENT\", axis =1).values\n",
        "y = df[\"DEATH_EVENT\"].values"
      ],
      "execution_count": null,
      "outputs": []
    },
    {
      "cell_type": "code",
      "metadata": {
        "id": "x_Npom2sIW0S"
      },
      "source": [
        "from sklearn.model_selection import train_test_split\n",
        "X_train, X_test,y_train,y_test = train_test_split(X,y,test_size=0.2,random_state=1)"
      ],
      "execution_count": null,
      "outputs": []
    },
    {
      "cell_type": "code",
      "metadata": {
        "id": "1392hET974ML"
      },
      "source": [
        "from sklearn.preprocessing import StandardScaler\n",
        "scaler = StandardScaler()\n",
        "X_train = scaler.fit_transform(X_train)\n",
        "\n",
        "X_test = scaler.fit_transform(X_test)"
      ],
      "execution_count": null,
      "outputs": []
    },
    {
      "cell_type": "code",
      "metadata": {
        "id": "NimONqjzLbAV"
      },
      "source": [
        "from sklearn.naive_bayes import GaussianNB\n",
        "gnb = GaussianNB() #it makes a prediction before looking at the dataset - prior probability - model has not seen any data - p(death event) - p(death event given)\n",
        "gnb.fit(X_train, y_train) #P(death event | features) - makes a random guess - features are evidence\n",
        "y_pred = gnb.predict(X_test) #Posterior probability - giving training data - model can now see the data and make newer predictions"
      ],
      "execution_count": null,
      "outputs": []
    },
    {
      "cell_type": "code",
      "metadata": {
        "colab": {
          "base_uri": "https://localhost:8080/",
          "height": 105
        },
        "id": "zUF9ZlS5LlQC",
        "outputId": "7401ee1c-8a74-4455-fe20-91e6775e089a"
      },
      "source": [
        "from sklearn import metrics\n",
        "from sklearn.metrics import classification_report \n",
        "# Model Accuracy, how often is the classifier correct?\n",
        "print(\"Accuracy:\",metrics.accuracy_score(y_test, y_pred))\n",
        "classification_report(y_test,y_pred)"
      ],
      "execution_count": null,
      "outputs": [
        {
          "output_type": "stream",
          "text": [
            "Accuracy: 0.8166666666666667\n"
          ],
          "name": "stdout"
        },
        {
          "output_type": "execute_result",
          "data": {
            "application/vnd.google.colaboratory.intrinsic+json": {
              "type": "string"
            },
            "text/plain": [
              "'              precision    recall  f1-score   support\\n\\n           0       0.89      0.87      0.88        46\\n           1       0.60      0.64      0.62        14\\n\\n    accuracy                           0.82        60\\n   macro avg       0.74      0.76      0.75        60\\nweighted avg       0.82      0.82      0.82        60\\n'"
            ]
          },
          "metadata": {
            "tags": []
          },
          "execution_count": 28
        }
      ]
    },
    {
      "cell_type": "code",
      "metadata": {
        "colab": {
          "base_uri": "https://localhost:8080/",
          "height": 283
        },
        "id": "3iL4octimJDY",
        "outputId": "d9e7e096-8dad-4918-be9e-bb81b15ea150"
      },
      "source": [
        "report = classification_report(y_test,y_pred,output_dict = True)\n",
        "import seaborn as sns\n",
        "sns.heatmap(pd.DataFrame(report).iloc[:-1, :].T, annot=True)"
      ],
      "execution_count": null,
      "outputs": [
        {
          "output_type": "execute_result",
          "data": {
            "text/plain": [
              "<matplotlib.axes._subplots.AxesSubplot at 0x7fe1208cf750>"
            ]
          },
          "metadata": {
            "tags": []
          },
          "execution_count": 17
        },
        {
          "output_type": "display_data",
          "data": {
            "image/png": "[encoded data removed]",
            "text/plain": [
              "<Figure size 432x288 with 2 Axes>"
            ]
          },
          "metadata": {
            "tags": [],
            "needs_background": "light"
          }
        }
      ]
    },
    {
      "cell_type": "code",
      "metadata": {
        "colab": {
          "base_uri": "https://localhost:8080/"
        },
        "id": "K-0ywvcplzWF",
        "outputId": "a240db86-57fe-40db-e2bb-f1ae5fcc890a"
      },
      "source": [
        "from sklearn.metrics import confusion_matrix\n",
        "cf_matrix = confusion_matrix(y_test,y_pred)\n",
        "print(cf_matrix)"
      ],
      "execution_count": null,
      "outputs": [
        {
          "output_type": "stream",
          "text": [
            "[[45  1]\n",
            " [ 3 11]]\n"
          ],
          "name": "stdout"
        }
      ]
    },
    {
      "cell_type": "code",
      "metadata": {
        "id": "4jBuXwDSl4cy"
      },
      "source": [
        "import seaborn as sns"
      ],
      "execution_count": null,
      "outputs": []
    },
    {
      "cell_type": "code",
      "metadata": {
        "colab": {
          "base_uri": "https://localhost:8080/",
          "height": 287
        },
        "id": "usqSEUa5l5L2",
        "outputId": "e68ada64-7e09-4a85-bfa6-ebf6fa055e3f"
      },
      "source": [
        "group_names = ['True Neg','False Pos','False Neg','True Pos']\n",
        "group_counts = ['{0:0.0f}'.format(value) for value in\n",
        "                cf_matrix.flatten()]\n",
        "group_percentages = ['{0:.2%}'.format(value) for value in\n",
        "                     cf_matrix.flatten()/np.sum(cf_matrix)]\n",
        "labels = [f'{v1}\\n{v2}\\n{v3}' for v1, v2, v3 in\n",
        "          zip(group_names,group_counts,group_percentages)]\n",
        "labels = np.asarray(labels).reshape(2,2)\n",
        "sns.heatmap(cf_matrix, annot=labels, fmt='', cmap='Blues')"
      ],
      "execution_count": null,
      "outputs": [
        {
          "output_type": "execute_result",
          "data": {
            "text/plain": [
              "<matplotlib.axes._subplots.AxesSubplot at 0x7fb569b66050>"
            ]
          },
          "metadata": {
            "tags": []
          },
          "execution_count": 14
        },
        {
          "output_type": "display_data",
          "data": {
            "image/png": "[encoded data removed]",
            "text/plain": [
              "<Figure size 432x288 with 2 Axes>"
            ]
          },
          "metadata": {
            "tags": [],
            "needs_background": "light"
          }
        }
      ]
    },
    {
      "cell_type": "code",
      "metadata": {
        "id": "RSp5HQdA6vln"
      },
      "source": [
        "#Cost assumptions\n",
        "'''Cost of FP: 1, cost of FN: 2, cost of TN: 0, cost of TP: -1'''\n",
        "cost_TP = -1; cost_FP = 1; cost_FN = 2; cost_TN = 0;\n",
        "cb_matrix = -1*np.array([[cost_TP, cost_FP],[cost_FN, cost_TN]])"
      ],
      "execution_count": null,
      "outputs": []
    },
    {
      "cell_type": "code",
      "metadata": {
        "id": "puPc8S_j8fYh"
      },
      "source": [
        "def standard_confusion_matrix(y_true, y_predict):\n",
        "    TP = sum((y_true == 1) & (y_predict == 1))\n",
        "    TN = sum((y_true == 0) & (y_predict == 0))\n",
        "    FP = sum((y_true == 0) & (y_predict == 1))\n",
        "    FN = sum((y_true == 1) & (y_predict == 0))\n",
        "    \n",
        "    return np.array([[TP,FP],[FN,TN]])"
      ],
      "execution_count": null,
      "outputs": []
    },
    {
      "cell_type": "code",
      "metadata": {
        "id": "ITLR5jco8kRR"
      },
      "source": [
        "def profit_curve(cb, predict_probas, labels):\n",
        "    indices = np.argsort(predict_probas)\n",
        "    sorted_probs = predict_probas[indices]\n",
        "    sorted_labels = labels[indices]\n",
        "    \n",
        "    profit_list = []\n",
        "    \n",
        "    for sp, sl in zip(sorted_probs, sorted_labels):\n",
        "        predict_labels = sorted_probs > sp + .0001\n",
        "        conf_mat = standard_confusion_matrix(sorted_labels, predict_labels)\n",
        "        profit_list.append((cb * conf_mat).sum() / float(len(labels)))\n",
        "    return profit_list, sorted_probs"
      ],
      "execution_count": null,
      "outputs": []
    },
    {
      "cell_type": "code",
      "metadata": {
        "id": "2va6Lu4f8mc8"
      },
      "source": [
        "def plot_profit_curve(model, label, costbenefit, X_train, X_test, y_train, y_test, col):\n",
        "    model.fit(X_train, y_train)\n",
        "    predict_probas = model.predict_proba(X_test)[:,1]\n",
        "    profit_list, sorted_probs = profit_curve(costbenefit, predict_probas, y_test)\n",
        "    max_index = np.argmax(profit_list)\n",
        "    max_threshold = sorted_probs[max_index]\n",
        "    max_profit = profit_list[max_index]\n",
        "    \n",
        "    plt.plot(sorted_probs, profit_list, label=label, color=col, linewidth=3)\n",
        "    plt.plot(max_threshold, max_profit, '.', color=col, markersize=18)"
      ],
      "execution_count": null,
      "outputs": []
    },
    {
      "cell_type": "code",
      "metadata": {
        "id": "kLi0CWXH9Cz9"
      },
      "source": [
        "import pandas as pd\n",
        "import math\n",
        "import numpy as np\n",
        "import matplotlib.pyplot as plt\n",
        "from sklearn.preprocessing import StandardScaler\n",
        "%matplotlib inline"
      ],
      "execution_count": null,
      "outputs": []
    },
    {
      "cell_type": "code",
      "metadata": {
        "colab": {
          "base_uri": "https://localhost:8080/",
          "height": 513
        },
        "id": "gJRgdv-v8omL",
        "outputId": "c4f4614b-d36f-4b11-f0a5-a0916d7544a8"
      },
      "source": [
        "models = [gnb]\n",
        "fig = plt.figure(figsize=(10,8))\n",
        "# fig.set_facecolor('#F2F2F2')\n",
        "colors = ['r', 'g', 'b', 'm']\n",
        "for i, model in enumerate(models):\n",
        "    plot_profit_curve(model, model.__class__.__name__, cb_matrix,\n",
        "                      X_train, X_test, y_train, y_test, colors[i])\n",
        "plt.title(\"Profit Curves\")\n",
        "plt.xlabel(\"Percentage of test instances (decreasing by score)\")\n",
        "plt.ylabel(\"Profit\")\n",
        "plt.legend(loc='lower right')\n",
        "plt.savefig('Profit_curve.png', facecolor=fig.get_facecolor())\n",
        "plt.show()"
      ],
      "execution_count": null,
      "outputs": [
        {
          "output_type": "display_data",
          "data": {
            "image/png": "[encoded data removed]",
            "text/plain": [
              "<Figure size 720x576 with 1 Axes>"
            ]
          },
          "metadata": {
            "tags": [],
            "needs_background": "light"
          }
        }
      ]
    },
    {
      "cell_type": "code",
      "metadata": {
        "id": "DlglvOJwwvXc"
      },
      "source": [
        "pip install memory_profiler"
      ],
      "execution_count": null,
      "outputs": []
    },
    {
      "cell_type": "code",
      "metadata": {
        "id": "MocKi3X4wzJE"
      },
      "source": [
        "%load_ext memory_profiler"
      ],
      "execution_count": null,
      "outputs": []
    },
    {
      "cell_type": "code",
      "metadata": {
        "id": "xHSJzFKqw1WN"
      },
      "source": [
        "%memit GaussianNB()"
      ],
      "execution_count": null,
      "outputs": []
    },
    {
      "cell_type": "code",
      "metadata": {
        "id": "j3vU0HIEw2uC"
      },
      "source": [
        "%memit gnb.fit(X_train, y_train)"
      ],
      "execution_count": null,
      "outputs": []
    },
    {
      "cell_type": "code",
      "metadata": {
        "id": "FHNMbZ8Fw4w8"
      },
      "source": [
        "%memit y_pred"
      ],
      "execution_count": null,
      "outputs": []
    },
    {
      "cell_type": "code",
      "metadata": {
        "id": "M4dbKiWnw6gm"
      },
      "source": [
        "import time\n",
        "%timeit GaussianNB()"
      ],
      "execution_count": null,
      "outputs": []
    },
    {
      "cell_type": "code",
      "metadata": {
        "id": "O7w9KQ3Ww_m6"
      },
      "source": [
        "%timeit gnb.fit(X_train, y_train) "
      ],
      "execution_count": null,
      "outputs": []
    },
    {
      "cell_type": "code",
      "metadata": {
        "id": "NBS7-WW0xGob"
      },
      "source": [
        "%timeit y_pred"
      ],
      "execution_count": null,
      "outputs": []
    },
    {
      "cell_type": "code",
      "metadata": {
        "id": "729zP9l7xlhh"
      },
      "source": [
        "from sklearn.metrics import roc_auc_score\n",
        "auc_score1 = roc_auc_score(y_test, y_pred)\n",
        "print(auc_score1)"
      ],
      "execution_count": null,
      "outputs": []
    },
    {
      "cell_type": "code",
      "metadata": {
        "id": "suKtJ7m5xl8F"
      },
      "source": [
        "from sklearn import metrics\n",
        "import matplotlib.pyplot as plt\n",
        "metrics.plot_roc_curve(gnb, X_test, y_test)\n",
        "plt.show()"
      ],
      "execution_count": null,
      "outputs": []
    },
    {
      "cell_type": "markdown",
      "metadata": {
        "id": "vtpzH8YoxM4o"
      },
      "source": [
        "https://www.datacamp.com/community/tutorials/naive-bayes-scikit-learn\n",
        "https://machinelearningmastery.com/naive-bayes-classifier-scratch-python/\n",
        "https://towardsdatascience.com/implementing-naive-bayes-in-2-minutes-with-python-3ecd788803fe\n",
        "https://stackoverflow.com/questions/28200786/how-to-plot-scikit-learn-classification-report\n",
        "https://medium.com/@dtuk81/confusion-matrix-visualization-fc31e3f30fea\n",
        "https://github.com/SydneyLauren/Profit-curves-and-xkcd-plotting\n",
        "https://community.datarobot.com/t5/resources/profit-curve/ta-p/7389\n",
        "https://www.analyticsvidhya.com/blog/2020/06/auc-roc-curve-machine-learning/\n",
        "https://machinelearningmastery.com/roc-curves-and-precision-recall-curves-for-classification-in-python/\n",
        "https://towardsdatascience.com/understanding-auc-roc-curve-68b2303cc9c5\n",
        "https://gist.github.com/fclesio/bb5871281debc07d75127552c56b08b5\n",
        "sklearn-plotting-classification-report-gives-a-different-output-than-basic-avg\n",
        "https://github.com/Ritvik-Sapra/EasyStatistics\n",
        "https://machinelearningmastery.com/naive-bayes-classifier-scratch-python/\n",
        "https://towardsdatascience.com/implementing-naive-bayes-in-2-minutes-with-python-3ecd788803fe\n",
        "\n",
        "\n",
        "\n"
      ]
    }
  ]
}