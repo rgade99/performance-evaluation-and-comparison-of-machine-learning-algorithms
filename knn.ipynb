{
  "nbformat": 4,
  "nbformat_minor": 0,
  "metadata": {
    "colab": {
      "name": "knn_(1)_edited_(1) (1).ipynb",
      "provenance": [],
      "collapsed_sections": []
    },
    "kernelspec": {
      "name": "python3",
      "display_name": "Python 3"
    }
  },
  "cells": [
    {
      "cell_type": "code",
      "metadata": {
        "id": "114uftnXSODH"
      },
      "source": [
        "import pandas as pd\n",
        "df = pd.read_csv('./heart_failure_clinical_records_dataset.csv')"
      ],
      "execution_count": null,
      "outputs": []
    },
    {
      "cell_type": "code",
      "metadata": {
        "id": "1ZwscIgYrRPi"
      },
      "source": [
        "from sklearn.preprocessing import StandardScaler\n",
        "features = ['age','anaemia','creatinine_phosphokinase','diabetes','ejection_fraction','high_blood_pressure','platelets','serum_creatinine','serum_sodium','sex','smoking','time']\n",
        "x = df.loc[:, features].values\n",
        "y =df.loc[:,['DEATH_EVENT']].values"
      ],
      "execution_count": null,
      "outputs": []
    },
    {
      "cell_type": "code",
      "metadata": {
        "id": "9kTe5TzBrZe0"
      },
      "source": [
        "x = StandardScaler().fit_transform(x)"
      ],
      "execution_count": null,
      "outputs": []
    },
    {
      "cell_type": "code",
      "metadata": {
        "colab": {
          "base_uri": "https://localhost:8080/",
          "height": 415
        },
        "id": "wqIPRT-zrilf",
        "outputId": "bd1c94f9-aee2-4e1b-a37e-2ff8978d312e"
      },
      "source": [
        "from sklearn.decomposition import PCA #creating a list of features and turning it into values - to bring data into a specific range\n",
        "pca = PCA(n_components=2) # combines data and shows all the variables in two variables - you end up having only 2 variables - \n",
        "pc1 = pca.fit_transform(x) #values need to be transformed - reducing the range making it easier to compare - range decreased on each individual variable\n",
        "pDF = pd.DataFrame(data = pc1, columns=['Principal Component1','Principal Component2']) #for the number of components it uses the most important features and considers them in the principal components - increasing the number of principal components increasing features - but less important features (less useful) - does not have any impact - \n",
        "finalDf = pd.concat([pDF,df[['DEATH_EVENT']]],axis=1) #using tabular data - rows and columns \n",
        "finalDf"
      ],
      "execution_count": null,
      "outputs": [
        {
          "output_type": "execute_result",
          "data": {
            "text/html": [
              "<div>\n",
              "<style scoped>\n",
              "    .dataframe tbody tr th:only-of-type {\n",
              "        vertical-align: middle;\n",
              "    }\n",
              "\n",
              "    .dataframe tbody tr th {\n",
              "        vertical-align: top;\n",
              "    }\n",
              "\n",
              "    .dataframe thead th {\n",
              "        text-align: right;\n",
              "    }\n",
              "</style>\n",
              "<table border=\"1\" class=\"dataframe\">\n",
              "  <thead>\n",
              "    <tr style=\"text-align: right;\">\n",
              "      <th></th>\n",
              "      <th>Principal Component1</th>\n",
              "      <th>Principal Component2</th>\n",
              "      <th>DEATH_EVENT</th>\n",
              "    </tr>\n",
              "  </thead>\n",
              "  <tbody>\n",
              "    <tr>\n",
              "      <th>0</th>\n",
              "      <td>0.877055</td>\n",
              "      <td>2.287104</td>\n",
              "      <td>1</td>\n",
              "    </tr>\n",
              "    <tr>\n",
              "      <th>1</th>\n",
              "      <td>1.863753</td>\n",
              "      <td>-1.552894</td>\n",
              "      <td>1</td>\n",
              "    </tr>\n",
              "    <tr>\n",
              "      <th>2</th>\n",
              "      <td>2.526429</td>\n",
              "      <td>1.369821</td>\n",
              "      <td>1</td>\n",
              "    </tr>\n",
              "    <tr>\n",
              "      <th>3</th>\n",
              "      <td>0.579566</td>\n",
              "      <td>1.143232</td>\n",
              "      <td>1</td>\n",
              "    </tr>\n",
              "    <tr>\n",
              "      <th>4</th>\n",
              "      <td>-0.960485</td>\n",
              "      <td>2.639384</td>\n",
              "      <td>1</td>\n",
              "    </tr>\n",
              "    <tr>\n",
              "      <th>...</th>\n",
              "      <td>...</td>\n",
              "      <td>...</td>\n",
              "      <td>...</td>\n",
              "    </tr>\n",
              "    <tr>\n",
              "      <th>294</th>\n",
              "      <td>0.826097</td>\n",
              "      <td>-1.122232</td>\n",
              "      <td>0</td>\n",
              "    </tr>\n",
              "    <tr>\n",
              "      <th>295</th>\n",
              "      <td>-0.533627</td>\n",
              "      <td>-2.065782</td>\n",
              "      <td>0</td>\n",
              "    </tr>\n",
              "    <tr>\n",
              "      <th>296</th>\n",
              "      <td>-2.415521</td>\n",
              "      <td>-3.837399</td>\n",
              "      <td>0</td>\n",
              "    </tr>\n",
              "    <tr>\n",
              "      <th>297</th>\n",
              "      <td>2.227187</td>\n",
              "      <td>-2.394490</td>\n",
              "      <td>0</td>\n",
              "    </tr>\n",
              "    <tr>\n",
              "      <th>298</th>\n",
              "      <td>1.367704</td>\n",
              "      <td>-1.833046</td>\n",
              "      <td>0</td>\n",
              "    </tr>\n",
              "  </tbody>\n",
              "</table>\n",
              "<p>299 rows × 3 columns</p>\n",
              "</div>"
            ],
            "text/plain": [
              "     Principal Component1  Principal Component2  DEATH_EVENT\n",
              "0                0.877055              2.287104            1\n",
              "1                1.863753             -1.552894            1\n",
              "2                2.526429              1.369821            1\n",
              "3                0.579566              1.143232            1\n",
              "4               -0.960485              2.639384            1\n",
              "..                    ...                   ...          ...\n",
              "294              0.826097             -1.122232            0\n",
              "295             -0.533627             -2.065782            0\n",
              "296             -2.415521             -3.837399            0\n",
              "297              2.227187             -2.394490            0\n",
              "298              1.367704             -1.833046            0\n",
              "\n",
              "[299 rows x 3 columns]"
            ]
          },
          "metadata": {
            "tags": []
          },
          "execution_count": 4
        }
      ]
    },
    {
      "cell_type": "code",
      "metadata": {
        "colab": {
          "base_uri": "https://localhost:8080/"
        },
        "id": "7W_GNhVTlfwH",
        "outputId": "1b2cb8fc-c8cd-499b-b66b-367dc511a7b6"
      },
      "source": [
        "#pca - principle components analysis - too many variables - dimensions - some classifiers perform worse when they are too many dimensions - pca lowers the number of dimensions\n",
        "#kn classifier - accuracy not as good - reduce number of variables to increase the accuracy\n"
      ],
      "execution_count": null,
      "outputs": [
        {
          "output_type": "execute_result",
          "data": {
            "text/plain": [
              "PCA(copy=True, iterated_power='auto', n_components=2, random_state=None,\n",
              "    svd_solver='auto', tol=0.0, whiten=False)"
            ]
          },
          "metadata": {
            "tags": []
          },
          "execution_count": 5
        }
      ]
    },
    {
      "cell_type": "code",
      "metadata": {
        "id": "SZeCG6IeSYrI"
      },
      "source": [
        "from sklearn.neighbors import KNeighborsClassifier\n",
        "from sklearn.metrics import classification_report\n",
        "from scipy.spatial import distance\n",
        "from sklearn.svm import SVC\n",
        "import numpy as np"
      ],
      "execution_count": null,
      "outputs": []
    },
    {
      "cell_type": "code",
      "metadata": {
        "id": "3QGMTTWGScp6"
      },
      "source": [
        "#X = df.drop(\"DEATH_EVENT\", axis =1)\n",
        "\n",
        "X = finalDf.drop(\"DEATH_EVENT\", axis = 1).values\n",
        "y = finalDf[\"DEATH_EVENT\"].values\n",
        "\n",
        "#y=df[\"DEATH_EVENT\"]\n",
        "from sklearn.model_selection import train_test_split"
      ],
      "execution_count": null,
      "outputs": []
    },
    {
      "cell_type": "code",
      "metadata": {
        "id": "VfALXYNBSfeD"
      },
      "source": [
        "X_train, X_test,y_train,y_test = train_test_split(X,y,test_size=0.2,random_state=0)"
      ],
      "execution_count": null,
      "outputs": []
    },
    {
      "cell_type": "code",
      "metadata": {
        "id": "hUpaBxvuA3gS"
      },
      "source": [
        "from sklearn.preprocessing import StandardScaler\n",
        "scaler = StandardScaler()\n",
        "X_train = scaler.fit_transform(X_train)\n",
        "X_test = scaler.fit_transform(X_test)"
      ],
      "execution_count": null,
      "outputs": []
    },
    {
      "cell_type": "code",
      "metadata": {
        "id": "z9Qutul9l5eS"
      },
      "source": [
        "from sklearn import metrics\n"
      ],
      "execution_count": null,
      "outputs": []
    },
    {
      "cell_type": "code",
      "metadata": {
        "colab": {
          "base_uri": "https://localhost:8080/"
        },
        "id": "8PHz2-Zpi4NV",
        "outputId": "ea0ccb1b-40f6-4060-a144-8a9299ea4df3"
      },
      "source": [
        "knn = KNeighborsClassifier(n_neighbors=8) #if you have too many variables it can reduce the efficiency of the model - clustering classifier - it starts off with two random clusters anywhere and plots the data randomly - distance method used to check distance between points and moves them closer accordingly - unsupervised - learns by itself - only giving it data without the label - semi-supervised learning method as you give it some datat to teach it - you do not give it anymore data\n",
        "knn2 = knn.fit(X_train,y_train) #disappointing classifier - not good model for this data - lack accuracy could be because of too many variables - performance depended on fewer variables \n",
        "y_pred1 = knn2.predict(X_test)\n",
        "print('test accuracy' , knn.score(X_test, y_test))\n",
        "print(\"Accuracy:\",metrics.accuracy_score(y_test, y_pred1))"
      ],
      "execution_count": null,
      "outputs": [
        {
          "output_type": "stream",
          "text": [
            "test accuracy 0.75\n",
            "Accuracy: 0.75\n"
          ],
          "name": "stdout"
        }
      ]
    },
    {
      "cell_type": "code",
      "metadata": {
        "id": "vYNdA0i3Slyr"
      },
      "source": [
        "from sklearn import svm #hyperparameter tuning - to increase accuracy - low accuracy but higher recall and precision\n",
        "\n",
        "writ = svm.SVC(kernel='linear') #hyperparameter tuning - a linear kernel lead to a lower accuracy - \n",
        "writ.fit(X_train, y_train)\n",
        "\n",
        "y_pred = writ.predict(X_test)"
      ],
      "execution_count": null,
      "outputs": []
    },
    {
      "cell_type": "code",
      "metadata": {
        "colab": {
          "base_uri": "https://localhost:8080/"
        },
        "id": "2pl6iQPlSspG",
        "outputId": "f6019976-b90a-4580-c5c1-a1ca43c8d787"
      },
      "source": [
        "from sklearn import metrics\n",
        "\n",
        "print(\"Accuracy:\",metrics.accuracy_score(y_test, y_pred))"
      ],
      "execution_count": null,
      "outputs": [
        {
          "output_type": "stream",
          "text": [
            "Accuracy: 0.75\n"
          ],
          "name": "stdout"
        }
      ]
    },
    {
      "cell_type": "code",
      "metadata": {
        "colab": {
          "base_uri": "https://localhost:8080/"
        },
        "id": "gqNZR3_ZSmzR",
        "outputId": "c9abfb2d-74f5-4a2c-8efb-87b164865e96"
      },
      "source": [
        "from sklearn.preprocessing import StandardScaler\n",
        "from sklearn.pipeline import make_pipeline\n",
        "\n",
        "knn_pipe = make_pipeline(StandardScaler(), KNeighborsClassifier(n_neighbors=3)) #looks at number of neighbours in the area - people who are more likely to die closer together - are neighbours - to predict accuracy - reducing distance\n",
        "\n",
        "knn_pipe.fit(X_train, y_train)\n",
        "print('Test dataset accuracy: {0}.'.format(knn_pipe.score(X_test, y_test)))"
      ],
      "execution_count": null,
      "outputs": [
        {
          "output_type": "stream",
          "text": [
            "Test dataset accuracy: 0.6833333333333333.\n"
          ],
          "name": "stdout"
        }
      ]
    },
    {
      "cell_type": "code",
      "metadata": {
        "colab": {
          "base_uri": "https://localhost:8080/"
        },
        "id": "Lp0Aj9l3TF2X",
        "outputId": "954150e5-af5f-42ae-9725-f910d7c313f1"
      },
      "source": [
        "knn_5 = KNeighborsClassifier(n_neighbors=5)\n",
        "knn_15 = KNeighborsClassifier(n_neighbors=15)\n",
        "\n",
        "from sklearn.model_selection import cross_validate\n",
        "\n",
        "# Note that the data was already implicitly shuffled by train_test_split\n",
        "result_5 = cross_validate(knn_5, X_train, y_train, cv=5)\n",
        "result_15 = cross_validate(knn_15, X_train, y_train, cv=5)\n",
        "\n",
        "print('Average accuracy across folds (k = 5): {0}.'.format(result_5['test_score'].mean()))\n",
        "print('Average accuracy across folds (k = 15): {0}.'.format(result_15['test_score'].mean()))\n",
        "      \n",
        "knn_5.fit(X_train, y_train)\n",
        "print('Test dataset accuracy (k = 5): {0}.'.format(knn_5.score(X_test, y_test)))"
      ],
      "execution_count": null,
      "outputs": [
        {
          "output_type": "stream",
          "text": [
            "Average accuracy across folds (k = 5): 0.723758865248227.\n",
            "Average accuracy across folds (k = 15): 0.7449468085106383.\n",
            "Test dataset accuracy (k = 5): 0.7.\n"
          ],
          "name": "stdout"
        }
      ]
    },
    {
      "cell_type": "code",
      "metadata": {
        "colab": {
          "base_uri": "https://localhost:8080/"
        },
        "id": "6TfIXgYyTLBf",
        "outputId": "2015175b-4aee-49c1-9266-a37df892048f"
      },
      "source": [
        "from sklearn.model_selection import GridSearchCV\n",
        "\n",
        "parameters = {'n_neighbors': [1, 3, 5, 7, 9]}\n",
        "\n",
        "knn = KNeighborsClassifier()\n",
        "knn_cv = GridSearchCV(knn, parameters, cv=5)\n",
        "knn_cv.fit(X_train, y_train)\n",
        "\n",
        "print('Best hyperparameter setting: {0}.'.format(knn_cv.best_estimator_))\n",
        "print('Average accuracy across folds of best hyperparameter setting: {0}.'.format(knn_cv.best_score_))\n",
        "print('Test dataset accuracy of best hyperparameter setting: {0}.'.format(knn_cv.score(X_test, y_test)))"
      ],
      "execution_count": null,
      "outputs": [
        {
          "output_type": "stream",
          "text": [
            "Best hyperparameter setting: KNeighborsClassifier(algorithm='auto', leaf_size=30, metric='minkowski',\n",
            "                     metric_params=None, n_jobs=None, n_neighbors=9, p=2,\n",
            "                     weights='uniform').\n",
            "Average accuracy across folds of best hyperparameter setting: 0.749113475177305.\n",
            "Test dataset accuracy of best hyperparameter setting: 0.7666666666666667.\n"
          ],
          "name": "stdout"
        }
      ]
    },
    {
      "cell_type": "code",
      "metadata": {
        "id": "iny75p11TOsG",
        "colab": {
          "base_uri": "https://localhost:8080/",
          "height": 179
        },
        "outputId": "ecbd3d09-c3dd-4dc4-bd53-f22f822854be"
      },
      "source": [
        "from sklearn.metrics import precision_recall_fscore_support #tradeoff - low accuracy but higher precision and recall - high accuracy - lower recall\n",
        "from sklearn.metrics import confusion_matrix #precision - making an exact guess - accuracy is taking a look at a large dataset and making a guess between a range of values\n",
        "\n",
        "y_pred = knn_cv.predict(X_test)\n",
        "\n",
        "precision, recall, _, _ = precision_recall_fscore_support(y_test, y_pred)\n",
        "print('Precision for each class: {0}.'.format(precision))\n",
        "print('Recall for each class: {0}.\\n'.format(recall))\n",
        "\n",
        "updateDf = pd.DataFrame.from_records(confusion_matrix(y_test, y_pred))\n",
        "print('Confusion matrix:')\n",
        "display(updateDf)"
      ],
      "execution_count": null,
      "outputs": [
        {
          "output_type": "stream",
          "text": [
            "Precision for each class: [0.73469388 0.90909091].\n",
            "Recall for each class: [0.97297297 0.43478261].\n",
            "\n",
            "Confusion matrix:\n"
          ],
          "name": "stdout"
        },
        {
          "output_type": "display_data",
          "data": {
            "text/html": [
              "<div>\n",
              "<style scoped>\n",
              "    .dataframe tbody tr th:only-of-type {\n",
              "        vertical-align: middle;\n",
              "    }\n",
              "\n",
              "    .dataframe tbody tr th {\n",
              "        vertical-align: top;\n",
              "    }\n",
              "\n",
              "    .dataframe thead th {\n",
              "        text-align: right;\n",
              "    }\n",
              "</style>\n",
              "<table border=\"1\" class=\"dataframe\">\n",
              "  <thead>\n",
              "    <tr style=\"text-align: right;\">\n",
              "      <th></th>\n",
              "      <th>0</th>\n",
              "      <th>1</th>\n",
              "    </tr>\n",
              "  </thead>\n",
              "  <tbody>\n",
              "    <tr>\n",
              "      <th>0</th>\n",
              "      <td>36</td>\n",
              "      <td>1</td>\n",
              "    </tr>\n",
              "    <tr>\n",
              "      <th>1</th>\n",
              "      <td>13</td>\n",
              "      <td>10</td>\n",
              "    </tr>\n",
              "  </tbody>\n",
              "</table>\n",
              "</div>"
            ],
            "text/plain": [
              "    0   1\n",
              "0  36   1\n",
              "1  13  10"
            ]
          },
          "metadata": {
            "tags": []
          }
        }
      ]
    },
    {
      "cell_type": "code",
      "metadata": {
        "id": "TUNSUAOHoOri"
      },
      "source": [
        "from sklearn.preprocessing import StandardScaler\n",
        "features = ['age','anaemia','creatinine_phosphokinase','diabetes','ejection_fraction','high_blood_pressure','platelets','serum_creatinine','serum_sodium','sex','smoking','time']\n",
        "x = df.loc[:, features].values\n",
        "y =df.loc[:,['DEATH_EVENT']].values"
      ],
      "execution_count": null,
      "outputs": []
    },
    {
      "cell_type": "code",
      "metadata": {
        "id": "tjsASCzQpYss"
      },
      "source": [
        "x = StandardScaler().fit_transform(x)"
      ],
      "execution_count": null,
      "outputs": []
    },
    {
      "cell_type": "code",
      "metadata": {
        "colab": {
          "base_uri": "https://localhost:8080/",
          "height": 415
        },
        "id": "fNfBIKe6pfw5",
        "outputId": "ef17e31d-3fde-4619-c0e7-a79fe1b934f1"
      },
      "source": [
        "from sklearn.decomposition import PCA #\n",
        "pca = PCA(n_components=2)\n",
        "pc1 = pca.fit_transform(x)\n",
        "pDF = pd.DataFrame(data = pc1, columns=['Principal Component1','Principal Component2'])\n",
        "finalDf = pd.concat([pDF,df[['DEATH_EVENT']]],axis=1)\n",
        "finalDf"
      ],
      "execution_count": null,
      "outputs": [
        {
          "output_type": "execute_result",
          "data": {
            "text/html": [
              "<div>\n",
              "<style scoped>\n",
              "    .dataframe tbody tr th:only-of-type {\n",
              "        vertical-align: middle;\n",
              "    }\n",
              "\n",
              "    .dataframe tbody tr th {\n",
              "        vertical-align: top;\n",
              "    }\n",
              "\n",
              "    .dataframe thead th {\n",
              "        text-align: right;\n",
              "    }\n",
              "</style>\n",
              "<table border=\"1\" class=\"dataframe\">\n",
              "  <thead>\n",
              "    <tr style=\"text-align: right;\">\n",
              "      <th></th>\n",
              "      <th>Principal Component1</th>\n",
              "      <th>Principal Component2</th>\n",
              "      <th>DEATH_EVENT</th>\n",
              "    </tr>\n",
              "  </thead>\n",
              "  <tbody>\n",
              "    <tr>\n",
              "      <th>0</th>\n",
              "      <td>0.877055</td>\n",
              "      <td>2.287104</td>\n",
              "      <td>1</td>\n",
              "    </tr>\n",
              "    <tr>\n",
              "      <th>1</th>\n",
              "      <td>1.863753</td>\n",
              "      <td>-1.552894</td>\n",
              "      <td>1</td>\n",
              "    </tr>\n",
              "    <tr>\n",
              "      <th>2</th>\n",
              "      <td>2.526429</td>\n",
              "      <td>1.369821</td>\n",
              "      <td>1</td>\n",
              "    </tr>\n",
              "    <tr>\n",
              "      <th>3</th>\n",
              "      <td>0.579566</td>\n",
              "      <td>1.143232</td>\n",
              "      <td>1</td>\n",
              "    </tr>\n",
              "    <tr>\n",
              "      <th>4</th>\n",
              "      <td>-0.960485</td>\n",
              "      <td>2.639384</td>\n",
              "      <td>1</td>\n",
              "    </tr>\n",
              "    <tr>\n",
              "      <th>...</th>\n",
              "      <td>...</td>\n",
              "      <td>...</td>\n",
              "      <td>...</td>\n",
              "    </tr>\n",
              "    <tr>\n",
              "      <th>294</th>\n",
              "      <td>0.826097</td>\n",
              "      <td>-1.122232</td>\n",
              "      <td>0</td>\n",
              "    </tr>\n",
              "    <tr>\n",
              "      <th>295</th>\n",
              "      <td>-0.533627</td>\n",
              "      <td>-2.065782</td>\n",
              "      <td>0</td>\n",
              "    </tr>\n",
              "    <tr>\n",
              "      <th>296</th>\n",
              "      <td>-2.415521</td>\n",
              "      <td>-3.837399</td>\n",
              "      <td>0</td>\n",
              "    </tr>\n",
              "    <tr>\n",
              "      <th>297</th>\n",
              "      <td>2.227187</td>\n",
              "      <td>-2.394490</td>\n",
              "      <td>0</td>\n",
              "    </tr>\n",
              "    <tr>\n",
              "      <th>298</th>\n",
              "      <td>1.367704</td>\n",
              "      <td>-1.833046</td>\n",
              "      <td>0</td>\n",
              "    </tr>\n",
              "  </tbody>\n",
              "</table>\n",
              "<p>299 rows × 3 columns</p>\n",
              "</div>"
            ],
            "text/plain": [
              "     Principal Component1  Principal Component2  DEATH_EVENT\n",
              "0                0.877055              2.287104            1\n",
              "1                1.863753             -1.552894            1\n",
              "2                2.526429              1.369821            1\n",
              "3                0.579566              1.143232            1\n",
              "4               -0.960485              2.639384            1\n",
              "..                    ...                   ...          ...\n",
              "294              0.826097             -1.122232            0\n",
              "295             -0.533627             -2.065782            0\n",
              "296             -2.415521             -3.837399            0\n",
              "297              2.227187             -2.394490            0\n",
              "298              1.367704             -1.833046            0\n",
              "\n",
              "[299 rows x 3 columns]"
            ]
          },
          "metadata": {
            "tags": []
          },
          "execution_count": 40
        }
      ]
    },
    {
      "cell_type": "markdown",
      "metadata": {
        "id": "hFx9RCgk6KmJ"
      },
      "source": [
        "Knn - clustering - we choose k which was 8 - I chose 8 because it performed the best - 8 is the amount of neighbours we have/8 sections and to make a prediction we look at our neighbours - so if there are more neighbours classified as 0 the prediction is more likely to be 0. "
      ]
    },
    {
      "cell_type": "code",
      "metadata": {
        "id": "k1f0gavumGio"
      },
      "source": [
        "import time"
      ],
      "execution_count": null,
      "outputs": []
    },
    {
      "cell_type": "code",
      "metadata": {
        "colab": {
          "base_uri": "https://localhost:8080/"
        },
        "id": "ec7FHoYI0eYP",
        "outputId": "5a388c91-b93b-40df-d147-e9b30f6fa4b9"
      },
      "source": [
        "%timeit pca"
      ],
      "execution_count": null,
      "outputs": [
        {
          "output_type": "stream",
          "text": [
            "The slowest run took 33.15 times longer than the fastest. This could mean that an intermediate result is being cached.\n",
            "10000000 loops, best of 5: 31.2 ns per loop\n"
          ],
          "name": "stdout"
        }
      ]
    },
    {
      "cell_type": "code",
      "metadata": {
        "colab": {
          "base_uri": "https://localhost:8080/"
        },
        "id": "0_qrPdHg0ezw",
        "outputId": "fef56831-d5d5-404f-a63c-4d2afcb21d97"
      },
      "source": [
        "%timeit pc1"
      ],
      "execution_count": null,
      "outputs": [
        {
          "output_type": "stream",
          "text": [
            "10000000 loops, best of 5: 31.1 ns per loop\n"
          ],
          "name": "stdout"
        }
      ]
    },
    {
      "cell_type": "code",
      "metadata": {
        "colab": {
          "base_uri": "https://localhost:8080/"
        },
        "id": "y06h4qSE0f0Z",
        "outputId": "554d7ef3-456e-4f3a-913c-0a51cbeb80f0"
      },
      "source": [
        "%timeit knn"
      ],
      "execution_count": null,
      "outputs": [
        {
          "output_type": "stream",
          "text": [
            "The slowest run took 30.33 times longer than the fastest. This could mean that an intermediate result is being cached.\n",
            "10000000 loops, best of 5: 33.7 ns per loop\n"
          ],
          "name": "stdout"
        }
      ]
    },
    {
      "cell_type": "code",
      "metadata": {
        "colab": {
          "base_uri": "https://localhost:8080/"
        },
        "id": "h7vXKgsX0f-0",
        "outputId": "49879acc-1c0c-48a4-a570-fe02e2223f97"
      },
      "source": [
        "%timeit knn2"
      ],
      "execution_count": null,
      "outputs": [
        {
          "output_type": "stream",
          "text": [
            "The slowest run took 34.04 times longer than the fastest. This could mean that an intermediate result is being cached.\n",
            "10000000 loops, best of 5: 31 ns per loop\n"
          ],
          "name": "stdout"
        }
      ]
    },
    {
      "cell_type": "code",
      "metadata": {
        "colab": {
          "base_uri": "https://localhost:8080/"
        },
        "id": "IJVeOErH0gI_",
        "outputId": "80b87102-60a1-4650-8b29-b4f8e6db0a77"
      },
      "source": [
        "%timeit y_pred1"
      ],
      "execution_count": null,
      "outputs": [
        {
          "output_type": "stream",
          "text": [
            "10000000 loops, best of 5: 31.2 ns per loop\n"
          ],
          "name": "stdout"
        }
      ]
    },
    {
      "cell_type": "code",
      "metadata": {
        "colab": {
          "base_uri": "https://localhost:8080/"
        },
        "id": "zs5d8uu40gSy",
        "outputId": "c2b2cb9a-a04f-480c-c805-473ce6d17137"
      },
      "source": [
        "%timeit writ"
      ],
      "execution_count": null,
      "outputs": [
        {
          "output_type": "stream",
          "text": [
            "The slowest run took 38.24 times longer than the fastest. This could mean that an intermediate result is being cached.\n",
            "10000000 loops, best of 5: 33.4 ns per loop\n"
          ],
          "name": "stdout"
        }
      ]
    },
    {
      "cell_type": "code",
      "metadata": {
        "colab": {
          "base_uri": "https://localhost:8080/"
        },
        "id": "lSe1zTtg0gbe",
        "outputId": "28f5e6b1-b8a3-4a0c-c00c-121570a636af"
      },
      "source": [
        "%timeit writ.fit"
      ],
      "execution_count": null,
      "outputs": [
        {
          "output_type": "stream",
          "text": [
            "The slowest run took 44.47 times longer than the fastest. This could mean that an intermediate result is being cached.\n",
            "10000000 loops, best of 5: 118 ns per loop\n"
          ],
          "name": "stdout"
        }
      ]
    },
    {
      "cell_type": "code",
      "metadata": {
        "colab": {
          "base_uri": "https://localhost:8080/"
        },
        "id": "pAkHvwRb0gkW",
        "outputId": "92a6bbd9-6ccd-4c7b-8063-5e3f4c52cf33"
      },
      "source": [
        "%timeit y_pred"
      ],
      "execution_count": null,
      "outputs": [
        {
          "output_type": "stream",
          "text": [
            "10000000 loops, best of 5: 31.1 ns per loop\n"
          ],
          "name": "stdout"
        }
      ]
    },
    {
      "cell_type": "code",
      "metadata": {
        "colab": {
          "base_uri": "https://localhost:8080/"
        },
        "id": "xgyi_x6r0gsB",
        "outputId": "cf608361-d18b-4917-f90f-749c8b7af629"
      },
      "source": [
        "%timeit knn_pipe"
      ],
      "execution_count": null,
      "outputs": [
        {
          "output_type": "stream",
          "text": [
            "The slowest run took 35.06 times longer than the fastest. This could mean that an intermediate result is being cached.\n",
            "10000000 loops, best of 5: 31.2 ns per loop\n"
          ],
          "name": "stdout"
        }
      ]
    },
    {
      "cell_type": "code",
      "metadata": {
        "colab": {
          "base_uri": "https://localhost:8080/"
        },
        "id": "xqWeL-4t0g08",
        "outputId": "c1d077e8-f3bb-46b6-82a5-8699d529af92"
      },
      "source": [
        "%timeit knn_pipe.fit(X_train,y_train)"
      ],
      "execution_count": null,
      "outputs": [
        {
          "output_type": "stream",
          "text": [
            "The slowest run took 6.51 times longer than the fastest. This could mean that an intermediate result is being cached.\n",
            "100 loops, best of 5: 1.99 ms per loop\n"
          ],
          "name": "stdout"
        }
      ]
    },
    {
      "cell_type": "code",
      "metadata": {
        "colab": {
          "base_uri": "https://localhost:8080/"
        },
        "id": "aybtMSAx0g9X",
        "outputId": "87040ac2-61c9-4d3b-ad27-0010fb3f5ec5"
      },
      "source": [
        "%timeit knn_cv"
      ],
      "execution_count": null,
      "outputs": [
        {
          "output_type": "stream",
          "text": [
            "The slowest run took 36.20 times longer than the fastest. This could mean that an intermediate result is being cached.\n",
            "10000000 loops, best of 5: 30.9 ns per loop\n"
          ],
          "name": "stdout"
        }
      ]
    },
    {
      "cell_type": "code",
      "metadata": {
        "colab": {
          "base_uri": "https://localhost:8080/"
        },
        "id": "Y4zd2wZs0hFq",
        "outputId": "dabfbc55-fc0d-4499-a4e1-7a691f4bef7f"
      },
      "source": [
        "%timeit knn_cv.fit(X_train,y_train)"
      ],
      "execution_count": null,
      "outputs": [
        {
          "output_type": "stream",
          "text": [
            "10 loops, best of 5: 127 ms per loop\n"
          ],
          "name": "stdout"
        }
      ]
    },
    {
      "cell_type": "code",
      "metadata": {
        "colab": {
          "base_uri": "https://localhost:8080/"
        },
        "id": "XopyqriU0hN9",
        "outputId": "3761ba7f-cfb1-476c-abd1-af7b3fc9758e"
      },
      "source": [
        "%timeit y_pred"
      ],
      "execution_count": null,
      "outputs": [
        {
          "output_type": "stream",
          "text": [
            "The slowest run took 33.89 times longer than the fastest. This could mean that an intermediate result is being cached.\n",
            "10000000 loops, best of 5: 31 ns per loop\n"
          ],
          "name": "stdout"
        }
      ]
    },
    {
      "cell_type": "code",
      "metadata": {
        "colab": {
          "base_uri": "https://localhost:8080/"
        },
        "id": "PCPgHcBVagg7",
        "outputId": "e5e93dbe-9fd2-4df5-b11b-435f5d25e6c4"
      },
      "source": [
        "pip install memory_profiler"
      ],
      "execution_count": null,
      "outputs": [
        {
          "output_type": "stream",
          "text": [
            "Collecting memory_profiler\n",
            "  Downloading https://files.pythonhosted.org/packages/8f/fd/d92b3295657f8837e0177e7b48b32d6651436f0293af42b76d134c3bb489/memory_profiler-0.58.0.tar.gz\n",
            "Requirement already satisfied: psutil in /usr/local/lib/python3.7/dist-packages (from memory_profiler) (5.4.8)\n",
            "Building wheels for collected packages: memory-profiler\n",
            "  Building wheel for memory-profiler (setup.py) ... \u001b[?25l\u001b[?25hdone\n",
            "  Created wheel for memory-profiler: filename=memory_profiler-0.58.0-cp37-none-any.whl size=30180 sha256=fe6c7ab37e9f6a24317787931b4e4d2bb7d77b7f9d3ae79770804827ba57179d\n",
            "  Stored in directory: /root/.cache/pip/wheels/02/e4/0b/aaab481fc5dd2a4ea59e78bc7231bb6aae7635ca7ee79f8ae5\n",
            "Successfully built memory-profiler\n",
            "Installing collected packages: memory-profiler\n",
            "Successfully installed memory-profiler-0.58.0\n"
          ],
          "name": "stdout"
        }
      ]
    },
    {
      "cell_type": "code",
      "metadata": {
        "id": "_9P_EG4MbDxn"
      },
      "source": [
        "%load_ext memory_profiler"
      ],
      "execution_count": null,
      "outputs": []
    },
    {
      "cell_type": "code",
      "metadata": {
        "colab": {
          "base_uri": "https://localhost:8080/"
        },
        "id": "SVeKIfuGamd3",
        "outputId": "123eb721-8e6c-4697-a944-e33ddf93729f"
      },
      "source": [
        "%memit pca"
      ],
      "execution_count": null,
      "outputs": [
        {
          "output_type": "stream",
          "text": [
            "peak memory: 155.75 MiB, increment: 0.02 MiB\n"
          ],
          "name": "stdout"
        }
      ]
    },
    {
      "cell_type": "code",
      "metadata": {
        "colab": {
          "base_uri": "https://localhost:8080/"
        },
        "id": "skiQLQ1taoNX",
        "outputId": "59866fc2-7521-4644-dbe7-631c59921c76"
      },
      "source": [
        "%memit pc1"
      ],
      "execution_count": null,
      "outputs": [
        {
          "output_type": "stream",
          "text": [
            "peak memory: 155.92 MiB, increment: 0.00 MiB\n"
          ],
          "name": "stdout"
        }
      ]
    },
    {
      "cell_type": "code",
      "metadata": {
        "colab": {
          "base_uri": "https://localhost:8080/"
        },
        "id": "0PMbFQgzaoce",
        "outputId": "76144d0c-6ddf-46a2-d3bd-4a46c84fae38"
      },
      "source": [
        "%memit knn"
      ],
      "execution_count": null,
      "outputs": [
        {
          "output_type": "stream",
          "text": [
            "peak memory: 156.04 MiB, increment: 0.00 MiB\n"
          ],
          "name": "stdout"
        }
      ]
    },
    {
      "cell_type": "code",
      "metadata": {
        "colab": {
          "base_uri": "https://localhost:8080/"
        },
        "id": "1o-0Za-ZapFv",
        "outputId": "eb903ed4-15fa-474a-dead-90820e5eef82"
      },
      "source": [
        "%memit knn2"
      ],
      "execution_count": null,
      "outputs": [
        {
          "output_type": "stream",
          "text": [
            "peak memory: 156.07 MiB, increment: 0.02 MiB\n"
          ],
          "name": "stdout"
        }
      ]
    },
    {
      "cell_type": "code",
      "metadata": {
        "colab": {
          "base_uri": "https://localhost:8080/"
        },
        "id": "-UKBrIMnapUc",
        "outputId": "8016f1ff-4d6c-4a6d-d488-f4a593294c64"
      },
      "source": [
        "%memit y_pred1"
      ],
      "execution_count": null,
      "outputs": [
        {
          "output_type": "stream",
          "text": [
            "peak memory: 156.13 MiB, increment: 0.00 MiB\n"
          ],
          "name": "stdout"
        }
      ]
    },
    {
      "cell_type": "code",
      "metadata": {
        "colab": {
          "base_uri": "https://localhost:8080/"
        },
        "id": "C_6Y0WwTapf5",
        "outputId": "17021c5f-e03c-46d6-8a5b-3e4078c41535"
      },
      "source": [
        "%memit writ"
      ],
      "execution_count": null,
      "outputs": [
        {
          "output_type": "stream",
          "text": [
            "peak memory: 156.34 MiB, increment: 0.00 MiB\n"
          ],
          "name": "stdout"
        }
      ]
    },
    {
      "cell_type": "code",
      "metadata": {
        "colab": {
          "base_uri": "https://localhost:8080/"
        },
        "id": "HrLf-NKhbUwg",
        "outputId": "fda4db9e-60f8-473f-d124-2e4a1e4f7be5"
      },
      "source": [
        "%memit writ.fit"
      ],
      "execution_count": null,
      "outputs": [
        {
          "output_type": "stream",
          "text": [
            "peak memory: 189.57 MiB, increment: 0.02 MiB\n"
          ],
          "name": "stdout"
        }
      ]
    },
    {
      "cell_type": "code",
      "metadata": {
        "colab": {
          "base_uri": "https://localhost:8080/"
        },
        "id": "cCUjIXBXbWyV",
        "outputId": "9f19c97f-08f9-4c61-beea-6c5770e9b4cd"
      },
      "source": [
        "%memit y_pred"
      ],
      "execution_count": null,
      "outputs": [
        {
          "output_type": "stream",
          "text": [
            "peak memory: 189.82 MiB, increment: 0.00 MiB\n"
          ],
          "name": "stdout"
        }
      ]
    },
    {
      "cell_type": "code",
      "metadata": {
        "colab": {
          "base_uri": "https://localhost:8080/"
        },
        "id": "Jdx2WMjAbasF",
        "outputId": "30cc72d5-5e4c-498a-a5ed-14110ececeb7"
      },
      "source": [
        "%memit knn_pipe"
      ],
      "execution_count": null,
      "outputs": [
        {
          "output_type": "stream",
          "text": [
            "peak memory: 189.84 MiB, increment: 0.00 MiB\n"
          ],
          "name": "stdout"
        }
      ]
    },
    {
      "cell_type": "code",
      "metadata": {
        "colab": {
          "base_uri": "https://localhost:8080/"
        },
        "id": "P96tWOVTbdxQ",
        "outputId": "93a6b634-7612-4992-db5e-db778295aa07"
      },
      "source": [
        "%memit knn_pipe.fit(X_train,y_train)"
      ],
      "execution_count": null,
      "outputs": [
        {
          "output_type": "stream",
          "text": [
            "peak memory: 189.84 MiB, increment: 0.00 MiB\n"
          ],
          "name": "stdout"
        }
      ]
    },
    {
      "cell_type": "code",
      "metadata": {
        "colab": {
          "base_uri": "https://localhost:8080/"
        },
        "id": "4GxwQf7LbjO1",
        "outputId": "2eba9adf-702a-467f-9ca0-29a2bba4114f"
      },
      "source": [
        "%memit knn_cv"
      ],
      "execution_count": null,
      "outputs": [
        {
          "output_type": "stream",
          "text": [
            "peak memory: 189.84 MiB, increment: 0.00 MiB\n"
          ],
          "name": "stdout"
        }
      ]
    },
    {
      "cell_type": "code",
      "metadata": {
        "colab": {
          "base_uri": "https://localhost:8080/"
        },
        "id": "4mmVfTZSbklZ",
        "outputId": "dc77b5c3-bbce-4e22-deb9-7177184405f6"
      },
      "source": [
        "%memit knn_cv.fit(X_train,y_train)"
      ],
      "execution_count": null,
      "outputs": [
        {
          "output_type": "stream",
          "text": [
            "peak memory: 190.09 MiB, increment: 0.00 MiB\n"
          ],
          "name": "stdout"
        }
      ]
    },
    {
      "cell_type": "code",
      "metadata": {
        "colab": {
          "base_uri": "https://localhost:8080/"
        },
        "id": "NX0ek7z5bonr",
        "outputId": "ff4dbd7a-7e3f-4711-faf5-f5e2027ecfd0"
      },
      "source": [
        "%memit y_pred"
      ],
      "execution_count": null,
      "outputs": [
        {
          "output_type": "stream",
          "text": [
            "peak memory: 190.09 MiB, increment: 0.00 MiB\n"
          ],
          "name": "stdout"
        }
      ]
    },
    {
      "cell_type": "code",
      "metadata": {
        "id": "Vrr6JFZ7BEOo"
      },
      "source": [
        "#Cost assumptions\n",
        "'''Cost of FP: 1, cost of FN: 2, cost of TN: 0, cost of TP: -1'''\n",
        "cost_TP = -1; cost_FP = 1; cost_FN = 2; cost_TN = 0;\n",
        "cb_matrix = -1*np.array([[cost_TP, cost_FP],[cost_FN, cost_TN]])"
      ],
      "execution_count": null,
      "outputs": []
    },
    {
      "cell_type": "code",
      "metadata": {
        "id": "G0ch9Sy7BJBm"
      },
      "source": [
        "def standard_confusion_matrix(y_true, y_predict):\n",
        "    TP = sum((y_true == 1) & (y_predict == 1))\n",
        "    TN = sum((y_true == 0) & (y_predict == 0))\n",
        "    FP = sum((y_true == 0) & (y_predict == 1))\n",
        "    FN = sum((y_true == 1) & (y_predict == 0))\n",
        "    \n",
        "    return np.array([[TP,FP],[FN,TN]])"
      ],
      "execution_count": null,
      "outputs": []
    },
    {
      "cell_type": "code",
      "metadata": {
        "id": "0SLcDQZfBLW6"
      },
      "source": [
        "def profit_curve(cb, predict_probas, labels):\n",
        "    indices = np.argsort(predict_probas)\n",
        "    sorted_probs = predict_probas[indices]\n",
        "    sorted_labels = labels[indices]\n",
        "    \n",
        "    profit_list = []\n",
        "    \n",
        "    for sp, sl in zip(sorted_probs, sorted_labels):\n",
        "        predict_labels = sorted_probs > sp + .0001\n",
        "        conf_mat = standard_confusion_matrix(sorted_labels, predict_labels)\n",
        "        profit_list.append((cb * conf_mat).sum() / float(len(labels)))\n",
        "    return profit_list, sorted_probs"
      ],
      "execution_count": null,
      "outputs": []
    },
    {
      "cell_type": "code",
      "metadata": {
        "id": "QnTVTljsBOkL"
      },
      "source": [
        "def plot_profit_curve(model, label, costbenefit, X_train, X_test, y_train, y_test, col):\n",
        "    model.fit(X_train, y_train)\n",
        "    predict_probas = model.predict_proba(X_test)[:,1]\n",
        "    profit_list, sorted_probs = profit_curve(costbenefit, predict_probas, y_test)\n",
        "    max_index = np.argmax(profit_list)\n",
        "    max_threshold = sorted_probs[max_index]\n",
        "    max_profit = profit_list[max_index]\n",
        "    \n",
        "    plt.plot(sorted_probs, profit_list, label=label, color=col, linewidth=3)\n",
        "    plt.plot(max_threshold, max_profit, '.', color=col, markersize=18)"
      ],
      "execution_count": null,
      "outputs": []
    },
    {
      "cell_type": "code",
      "metadata": {
        "id": "sUL8Sz9eBQWl"
      },
      "source": [
        "import pandas as pd\n",
        "import math\n",
        "import numpy as np\n",
        "import matplotlib.pyplot as plt\n",
        "from sklearn.preprocessing import StandardScaler\n",
        "%matplotlib inline"
      ],
      "execution_count": null,
      "outputs": []
    },
    {
      "cell_type": "code",
      "metadata": {
        "colab": {
          "base_uri": "https://localhost:8080/",
          "height": 513
        },
        "id": "vL_0tRXoBSne",
        "outputId": "2a7e76ff-58cd-46e3-b8d7-9ddd26ac9944"
      },
      "source": [
        "models = [knn]\n",
        "fig = plt.figure(figsize=(10,8))\n",
        "# fig.set_facecolor('#F2F2F2')\n",
        "colors = ['r', 'g', 'b', 'm']\n",
        "for i, model in enumerate(models):\n",
        "    plot_profit_curve(model, model.__class__.__name__, cb_matrix,\n",
        "                      X_train, X_test, y_train, y_test, colors[i])\n",
        "plt.title(\"Profit Curves\")\n",
        "plt.xlabel(\"Percentage of test instances (decreasing by score)\")\n",
        "plt.ylabel(\"Profit\")\n",
        "plt.legend(loc='lower right')\n",
        "plt.savefig('Profit_curve.png', facecolor=fig.get_facecolor())\n",
        "plt.show()"
      ],
      "execution_count": null,
      "outputs": [
        {
          "output_type": "display_data",
          "data": {
            "image/png": "[encoded data removed]",
            "text/plain": [
              "<Figure size 720x576 with 1 Axes>"
            ]
          },
          "metadata": {
            "tags": [],
            "needs_background": "light"
          }
        }
      ]
    },
    {
      "cell_type": "code",
      "metadata": {
        "id": "Yj0cLYYOP0VH"
      },
      "source": [
        "report = classification_report(y_test,y_pred,output_dict = True)\n",
        "import seaborn as sns\n",
        "sns.heatmap(pd.DataFrame(report).iloc[:-1, :].T, annot=True)"
      ],
      "execution_count": null,
      "outputs": []
    },
    {
      "cell_type": "code",
      "metadata": {
        "id": "fur7jUT8P276"
      },
      "source": [
        "from sklearn.metrics import roc_auc_score\n",
        "auc_score1 = roc_auc_score(y_test, y_pred)\n",
        "print(auc_score1)"
      ],
      "execution_count": null,
      "outputs": []
    },
    {
      "cell_type": "code",
      "metadata": {
        "id": "gkl3mI6vP-Kp"
      },
      "source": [
        "from sklearn import metrics\n",
        "import matplotlib.pyplot as plt\n",
        "metrics.plot_roc_curve(writ, X_test, y_test)\n",
        "plt.show()"
      ],
      "execution_count": null,
      "outputs": []
    },
    {
      "cell_type": "code",
      "metadata": {
        "id": "UMTGw9LqP-rc"
      },
      "source": [
        "from sklearn.metrics import confusion_matrix\n",
        "cf_matrix = confusion_matrix(y_test,y_pred)\n",
        "print(cf_matrix)"
      ],
      "execution_count": null,
      "outputs": []
    },
    {
      "cell_type": "code",
      "metadata": {
        "id": "HHv2hM8oQCIV"
      },
      "source": [
        "import seaborn as sns"
      ],
      "execution_count": null,
      "outputs": []
    },
    {
      "cell_type": "code",
      "metadata": {
        "id": "NksC4_XsQDa2"
      },
      "source": [
        "group_names = ['True Neg','false Pos','False Neg','True Pos']\n",
        "group_counts = ['{0:0.0f}'.format(value) for value in\n",
        "                cf_matrix.flatten()]\n",
        "group_percentages = ['{0:.2%}'.format(value) for value in\n",
        "                     cf_matrix.flatten()/np.sum(cf_matrix)]\n",
        "labels = [f'{v1}\\n{v2}\\n{v3}' for v1, v2, v3 in\n",
        "          zip(group_names,group_counts,group_percentages)]\n",
        "labels = np.asarray(labels).reshape(2,2)\n",
        "sns.heatmap(cf_matrix, annot=labels, fmt='', cmap='Blues')"
      ],
      "execution_count": null,
      "outputs": []
    },
    {
      "cell_type": "markdown",
      "metadata": {
        "id": "ne5V0oK9QJLd"
      },
      "source": [
        "https://stackoverflow.com/questions/28200786/how-to-plot-scikit-learn-classification-report\n",
        "https://medium.com/@dtuk81/confusion-matrix-visualization-fc31e3f30fea\n",
        "https://github.com/SydneyLauren/Profit-curves-and-xkcd-plotting\n",
        "https://community.datarobot.com/t5/resources/profit-curve/ta-p/7389\n",
        "https://www.analyticsvidhya.com/blog/2020/06/auc-roc-curve-machine-learning/\n",
        "https://machinelearningmastery.com/roc-curves-and-precision-recall-curves-for-classification-in-python/\n",
        "https://towardsdatascience.com/understanding-auc-roc-curve-68b2303cc9c5\n",
        "https://gist.github.com/fclesio/bb5871281debc07d75127552c56b08b5\n",
        "https://stackoverflow.com/questions/61705257/sklearn-plotting-classification-report-gives-a-different-output-than-basic-avg\n",
        "https://www.pyimagesearch.com/2016/08/15/how-to-tune-hyperparameters-with-python-and-scikit-learn/\n",
        "https://towardsdatascience.com/\n",
        "https://github.com/pragmaticpython/k-nearest-neighbors-python/blob/master/src/kNN.py\n",
        "https://github.com/jakemath/KNN-SKLearn/blob/master/knn.ipynb\n",
        "https://github.com/gavinest/knn_predicting_heart_disease/blob/master/eda.ipynb\n",
        "https://github.com/jigsawcoder/Breast-Cancer-Classification-using-KNN\n",
        "https://medium.com/analytics-vidhya/breast-cancer-classification-using-knn-algorithm-61257de55e9c\n",
        "https://towardsdatascience.com/pca-using-python-scikit-learn-e653f8989e60\n",
        "https://www.datacamp.com/community/tutorials/principal-component-analysis-in-python\n"
      ]
    }
  ]
}