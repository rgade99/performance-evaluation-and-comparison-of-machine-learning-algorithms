{
  "nbformat": 4,
  "nbformat_minor": 0,
  "metadata": {
    "colab": {
      "name": "neuralnetworks.ipynb",
      "provenance": [],
      "collapsed_sections": []
    },
    "kernelspec": {
      "name": "python3",
      "display_name": "Python 3"
    }
  },
  "cells": [
    {
      "cell_type": "code",
      "metadata": {
        "colab": {
          "base_uri": "https://localhost:8080/"
        },
        "id": "8WY755dXc7eI",
        "outputId": "b4ed8546-1830-4644-f511-92107fdc603d"
      },
      "source": [
        "import pandas as pd\n",
        "df = pd.read_csv('./heart_failure_clinical_records_dataset.csv')\n",
        "df.columns"
      ],
      "execution_count": null,
      "outputs": [
        {
          "output_type": "execute_result",
          "data": {
            "text/plain": [
              "Index(['age', 'anaemia', 'creatinine_phosphokinase', 'diabetes',\n",
              "       'ejection_fraction', 'high_blood_pressure', 'platelets',\n",
              "       'serum_creatinine', 'serum_sodium', 'sex', 'smoking', 'time',\n",
              "       'DEATH_EVENT'],\n",
              "      dtype='object')"
            ]
          },
          "metadata": {
            "tags": []
          },
          "execution_count": 1
        }
      ]
    },
    {
      "cell_type": "code",
      "metadata": {
        "colab": {
          "base_uri": "https://localhost:8080/",
          "height": 435
        },
        "id": "5PiIxDSafd8A",
        "outputId": "29b390f4-87c1-4ffa-cb06-37fbcdd2b30e"
      },
      "source": [
        "df"
      ],
      "execution_count": null,
      "outputs": [
        {
          "output_type": "execute_result",
          "data": {
            "text/html": [
              "<div>\n",
              "<style scoped>\n",
              "    .dataframe tbody tr th:only-of-type {\n",
              "        vertical-align: middle;\n",
              "    }\n",
              "\n",
              "    .dataframe tbody tr th {\n",
              "        vertical-align: top;\n",
              "    }\n",
              "\n",
              "    .dataframe thead th {\n",
              "        text-align: right;\n",
              "    }\n",
              "</style>\n",
              "<table border=\"1\" class=\"dataframe\">\n",
              "  <thead>\n",
              "    <tr style=\"text-align: right;\">\n",
              "      <th></th>\n",
              "      <th>age</th>\n",
              "      <th>anaemia</th>\n",
              "      <th>creatinine_phosphokinase</th>\n",
              "      <th>diabetes</th>\n",
              "      <th>ejection_fraction</th>\n",
              "      <th>high_blood_pressure</th>\n",
              "      <th>platelets</th>\n",
              "      <th>serum_creatinine</th>\n",
              "      <th>serum_sodium</th>\n",
              "      <th>sex</th>\n",
              "      <th>smoking</th>\n",
              "      <th>time</th>\n",
              "      <th>DEATH_EVENT</th>\n",
              "    </tr>\n",
              "  </thead>\n",
              "  <tbody>\n",
              "    <tr>\n",
              "      <th>0</th>\n",
              "      <td>75.0</td>\n",
              "      <td>0</td>\n",
              "      <td>582</td>\n",
              "      <td>0</td>\n",
              "      <td>20</td>\n",
              "      <td>1</td>\n",
              "      <td>265000.00</td>\n",
              "      <td>1.9</td>\n",
              "      <td>130</td>\n",
              "      <td>1</td>\n",
              "      <td>0</td>\n",
              "      <td>4</td>\n",
              "      <td>1</td>\n",
              "    </tr>\n",
              "    <tr>\n",
              "      <th>1</th>\n",
              "      <td>55.0</td>\n",
              "      <td>0</td>\n",
              "      <td>7861</td>\n",
              "      <td>0</td>\n",
              "      <td>38</td>\n",
              "      <td>0</td>\n",
              "      <td>263358.03</td>\n",
              "      <td>1.1</td>\n",
              "      <td>136</td>\n",
              "      <td>1</td>\n",
              "      <td>0</td>\n",
              "      <td>6</td>\n",
              "      <td>1</td>\n",
              "    </tr>\n",
              "    <tr>\n",
              "      <th>2</th>\n",
              "      <td>65.0</td>\n",
              "      <td>0</td>\n",
              "      <td>146</td>\n",
              "      <td>0</td>\n",
              "      <td>20</td>\n",
              "      <td>0</td>\n",
              "      <td>162000.00</td>\n",
              "      <td>1.3</td>\n",
              "      <td>129</td>\n",
              "      <td>1</td>\n",
              "      <td>1</td>\n",
              "      <td>7</td>\n",
              "      <td>1</td>\n",
              "    </tr>\n",
              "    <tr>\n",
              "      <th>3</th>\n",
              "      <td>50.0</td>\n",
              "      <td>1</td>\n",
              "      <td>111</td>\n",
              "      <td>0</td>\n",
              "      <td>20</td>\n",
              "      <td>0</td>\n",
              "      <td>210000.00</td>\n",
              "      <td>1.9</td>\n",
              "      <td>137</td>\n",
              "      <td>1</td>\n",
              "      <td>0</td>\n",
              "      <td>7</td>\n",
              "      <td>1</td>\n",
              "    </tr>\n",
              "    <tr>\n",
              "      <th>4</th>\n",
              "      <td>65.0</td>\n",
              "      <td>1</td>\n",
              "      <td>160</td>\n",
              "      <td>1</td>\n",
              "      <td>20</td>\n",
              "      <td>0</td>\n",
              "      <td>327000.00</td>\n",
              "      <td>2.7</td>\n",
              "      <td>116</td>\n",
              "      <td>0</td>\n",
              "      <td>0</td>\n",
              "      <td>8</td>\n",
              "      <td>1</td>\n",
              "    </tr>\n",
              "    <tr>\n",
              "      <th>...</th>\n",
              "      <td>...</td>\n",
              "      <td>...</td>\n",
              "      <td>...</td>\n",
              "      <td>...</td>\n",
              "      <td>...</td>\n",
              "      <td>...</td>\n",
              "      <td>...</td>\n",
              "      <td>...</td>\n",
              "      <td>...</td>\n",
              "      <td>...</td>\n",
              "      <td>...</td>\n",
              "      <td>...</td>\n",
              "      <td>...</td>\n",
              "    </tr>\n",
              "    <tr>\n",
              "      <th>294</th>\n",
              "      <td>62.0</td>\n",
              "      <td>0</td>\n",
              "      <td>61</td>\n",
              "      <td>1</td>\n",
              "      <td>38</td>\n",
              "      <td>1</td>\n",
              "      <td>155000.00</td>\n",
              "      <td>1.1</td>\n",
              "      <td>143</td>\n",
              "      <td>1</td>\n",
              "      <td>1</td>\n",
              "      <td>270</td>\n",
              "      <td>0</td>\n",
              "    </tr>\n",
              "    <tr>\n",
              "      <th>295</th>\n",
              "      <td>55.0</td>\n",
              "      <td>0</td>\n",
              "      <td>1820</td>\n",
              "      <td>0</td>\n",
              "      <td>38</td>\n",
              "      <td>0</td>\n",
              "      <td>270000.00</td>\n",
              "      <td>1.2</td>\n",
              "      <td>139</td>\n",
              "      <td>0</td>\n",
              "      <td>0</td>\n",
              "      <td>271</td>\n",
              "      <td>0</td>\n",
              "    </tr>\n",
              "    <tr>\n",
              "      <th>296</th>\n",
              "      <td>45.0</td>\n",
              "      <td>0</td>\n",
              "      <td>2060</td>\n",
              "      <td>1</td>\n",
              "      <td>60</td>\n",
              "      <td>0</td>\n",
              "      <td>742000.00</td>\n",
              "      <td>0.8</td>\n",
              "      <td>138</td>\n",
              "      <td>0</td>\n",
              "      <td>0</td>\n",
              "      <td>278</td>\n",
              "      <td>0</td>\n",
              "    </tr>\n",
              "    <tr>\n",
              "      <th>297</th>\n",
              "      <td>45.0</td>\n",
              "      <td>0</td>\n",
              "      <td>2413</td>\n",
              "      <td>0</td>\n",
              "      <td>38</td>\n",
              "      <td>0</td>\n",
              "      <td>140000.00</td>\n",
              "      <td>1.4</td>\n",
              "      <td>140</td>\n",
              "      <td>1</td>\n",
              "      <td>1</td>\n",
              "      <td>280</td>\n",
              "      <td>0</td>\n",
              "    </tr>\n",
              "    <tr>\n",
              "      <th>298</th>\n",
              "      <td>50.0</td>\n",
              "      <td>0</td>\n",
              "      <td>196</td>\n",
              "      <td>0</td>\n",
              "      <td>45</td>\n",
              "      <td>0</td>\n",
              "      <td>395000.00</td>\n",
              "      <td>1.6</td>\n",
              "      <td>136</td>\n",
              "      <td>1</td>\n",
              "      <td>1</td>\n",
              "      <td>285</td>\n",
              "      <td>0</td>\n",
              "    </tr>\n",
              "  </tbody>\n",
              "</table>\n",
              "<p>299 rows × 13 columns</p>\n",
              "</div>"
            ],
            "text/plain": [
              "      age  anaemia  creatinine_phosphokinase  ...  smoking  time  DEATH_EVENT\n",
              "0    75.0        0                       582  ...        0     4            1\n",
              "1    55.0        0                      7861  ...        0     6            1\n",
              "2    65.0        0                       146  ...        1     7            1\n",
              "3    50.0        1                       111  ...        0     7            1\n",
              "4    65.0        1                       160  ...        0     8            1\n",
              "..    ...      ...                       ...  ...      ...   ...          ...\n",
              "294  62.0        0                        61  ...        1   270            0\n",
              "295  55.0        0                      1820  ...        0   271            0\n",
              "296  45.0        0                      2060  ...        0   278            0\n",
              "297  45.0        0                      2413  ...        1   280            0\n",
              "298  50.0        0                       196  ...        1   285            0\n",
              "\n",
              "[299 rows x 13 columns]"
            ]
          },
          "metadata": {
            "tags": []
          },
          "execution_count": 2
        }
      ]
    },
    {
      "cell_type": "code",
      "metadata": {
        "id": "lxcVWW7cdjXy"
      },
      "source": [
        "dft = df.values #showing values as numbers in a matrix - matrix (sets of numbers of rows and columns)"
      ],
      "execution_count": null,
      "outputs": []
    },
    {
      "cell_type": "code",
      "metadata": {
        "colab": {
          "base_uri": "https://localhost:8080/"
        },
        "id": "zaZ0uwbPfWzD",
        "outputId": "0e46d6a6-258d-4874-cafe-d0dbd8db8a80"
      },
      "source": [
        "dft"
      ],
      "execution_count": null,
      "outputs": [
        {
          "output_type": "execute_result",
          "data": {
            "text/plain": [
              "array([[7.500e+01, 0.000e+00, 5.820e+02, ..., 0.000e+00, 4.000e+00,\n",
              "        1.000e+00],\n",
              "       [5.500e+01, 0.000e+00, 7.861e+03, ..., 0.000e+00, 6.000e+00,\n",
              "        1.000e+00],\n",
              "       [6.500e+01, 0.000e+00, 1.460e+02, ..., 1.000e+00, 7.000e+00,\n",
              "        1.000e+00],\n",
              "       ...,\n",
              "       [4.500e+01, 0.000e+00, 2.060e+03, ..., 0.000e+00, 2.780e+02,\n",
              "        0.000e+00],\n",
              "       [4.500e+01, 0.000e+00, 2.413e+03, ..., 1.000e+00, 2.800e+02,\n",
              "        0.000e+00],\n",
              "       [5.000e+01, 0.000e+00, 1.960e+02, ..., 1.000e+00, 2.850e+02,\n",
              "        0.000e+00]])"
            ]
          },
          "metadata": {
            "tags": []
          },
          "execution_count": 4
        }
      ]
    },
    {
      "cell_type": "code",
      "metadata": {
        "id": "X-RS1PH1QUQW"
      },
      "source": [
        "import numpy"
      ],
      "execution_count": null,
      "outputs": []
    },
    {
      "cell_type": "code",
      "metadata": {
        "id": "BAdurjrNQ14c"
      },
      "source": [
        "from sklearn.preprocessing import StandardScaler\n",
        "scaler = StandardScaler()\n"
      ],
      "execution_count": null,
      "outputs": []
    },
    {
      "cell_type": "code",
      "metadata": {
        "id": "KhPUJx2sfsNo"
      },
      "source": [
        "X = df.iloc[:,0:12].values #splitting values - x is the variables - independent variables "
      ],
      "execution_count": null,
      "outputs": []
    },
    {
      "cell_type": "code",
      "metadata": {
        "id": "MRX6pIOzjrKu"
      },
      "source": [
        "Y = df.iloc[:,12].values #y is the dependent variable"
      ],
      "execution_count": null,
      "outputs": []
    },
    {
      "cell_type": "code",
      "metadata": {
        "id": "cCUZdaV1Rf_o"
      },
      "source": [
        "from sklearn.preprocessing import LabelEncoder\n",
        "encoder = LabelEncoder() #it changes the values to fit in a specific range - range needed because it would be difficult to do model evaluation - easier to plot\n",
        "encoder.fit(Y)\n",
        "encoded_Y = encoder.transform(Y)"
      ],
      "execution_count": null,
      "outputs": []
    },
    {
      "cell_type": "code",
      "metadata": {
        "colab": {
          "base_uri": "https://localhost:8080/"
        },
        "id": "Y4KvXQczjLUG",
        "outputId": "31770582-f9c9-4e6a-e36d-d5e0a2017922"
      },
      "source": [
        "print(X)"
      ],
      "execution_count": null,
      "outputs": [
        {
          "output_type": "stream",
          "text": [
            "[[7.500e+01 0.000e+00 5.820e+02 ... 1.000e+00 0.000e+00 4.000e+00]\n",
            " [5.500e+01 0.000e+00 7.861e+03 ... 1.000e+00 0.000e+00 6.000e+00]\n",
            " [6.500e+01 0.000e+00 1.460e+02 ... 1.000e+00 1.000e+00 7.000e+00]\n",
            " ...\n",
            " [4.500e+01 0.000e+00 2.060e+03 ... 0.000e+00 0.000e+00 2.780e+02]\n",
            " [4.500e+01 0.000e+00 2.413e+03 ... 1.000e+00 1.000e+00 2.800e+02]\n",
            " [5.000e+01 0.000e+00 1.960e+02 ... 1.000e+00 1.000e+00 2.850e+02]]\n"
          ],
          "name": "stdout"
        }
      ]
    },
    {
      "cell_type": "code",
      "metadata": {
        "id": "395I1_373jZJ"
      },
      "source": [
        "from sklearn import preprocessing\n",
        "min_max_scaler = preprocessing.MinMaxScaler() #transform values into a range - smaller range - to easier to analyse - to reduce deviation - to not affect the output\n",
        "X_scale = min_max_scaler.fit_transform(X) #"
      ],
      "execution_count": null,
      "outputs": []
    },
    {
      "cell_type": "code",
      "metadata": {
        "colab": {
          "base_uri": "https://localhost:8080/"
        },
        "id": "UumJxGm6kSpf",
        "outputId": "c19b6f3b-f381-4d85-dc2d-77aa913cd03f"
      },
      "source": [
        "from sklearn.model_selection import train_test_split\n",
        "X_train, X_val_and_test, Y_train, Y_val_and_test = train_test_split(X_scale, Y, test_size=0.3)\n",
        "X_val, X_test, Y_val, Y_test = train_test_split(X_val_and_test, Y_val_and_test, test_size=0.5)\n",
        "print(X_train.shape, X_val.shape, X_test.shape, Y_train.shape, Y_val.shape, Y_test.shape) #training, testing and validating - we are testing and validating on the same number\n",
        "\n"
      ],
      "execution_count": null,
      "outputs": [
        {
          "output_type": "stream",
          "text": [
            "(209, 12) (45, 12) (45, 12) (209,) (45,) (45,)\n"
          ],
          "name": "stdout"
        }
      ]
    },
    {
      "cell_type": "code",
      "metadata": {
        "id": "Dtd94QkvCHaM"
      },
      "source": [
        "#from sklearn.preprocessing import StandardScaler\n",
        "#scaler = StandardScaler()\n",
        "#X_train = scaler.fit_transform(X_train)\n",
        "#X_test = scaler.fit_transform(X_test)"
      ],
      "execution_count": null,
      "outputs": []
    },
    {
      "cell_type": "code",
      "metadata": {
        "id": "XVnqpYQlkjKX"
      },
      "source": [
        "from keras.models import Sequential #keras used to build neural networks on python\n",
        "from keras.layers import Dense"
      ],
      "execution_count": null,
      "outputs": []
    },
    {
      "cell_type": "code",
      "metadata": {
        "id": "A94PqkWC3-es"
      },
      "source": [
        "model = Sequential([ #layers - layers of neural networks - has three layers the hidden layers perform the regression by looking at the input features and extracting features of importance\n",
        "    Dense(32, activation='relu', input_shape=(12,)), #dense - takes in an input and returns an output - input_shape - number of records being considered\n",
        "    Dense(32, activation='relu'), \n",
        "    Dense(1, activation='sigmoid'),\n",
        "])\n"
      ],
      "execution_count": null,
      "outputs": []
    },
    {
      "cell_type": "code",
      "metadata": {
        "id": "1NWKPrh5pahy"
      },
      "source": [
        "model.compile(optimizer='sgd', #optimiser - process of bringing your predicted value and actual value closer - whatever the actual y value is in the dataset and the predicted value - reduces the difference - takes in batches - small parts - on each batch it calculates the derivative of loss - how much it has changed by (the actual value and the predicted value)\n",
        "              loss = 'binary_crossentropy', #how you calculate the difference between the actual value and the predicted value - model for reducing the loss\n",
        "              metrics = ['accuracy']) #accuracy "
      ],
      "execution_count": null,
      "outputs": []
    },
    {
      "cell_type": "code",
      "metadata": {
        "colab": {
          "base_uri": "https://localhost:8080/"
        },
        "id": "J6YEx7IUpyMW",
        "outputId": "ea5e4deb-7e3e-41ce-fbdd-9469af779395"
      },
      "source": [
        "hist = model.fit(X_train, Y_train, #changing batch size - set my batch size - epoch how many times it runs, after it runs after a certain amount, it plateaus.\n",
        "          batch_size=10, epochs=100, #splitting model - giving it training data and the batch size specifies you need to fit the at most 10 records in the model and epoch is the number of times you are going to run the model - initially it was 25 the batch size and when you run it the accuracy was realy low - calculating loss - change in predicted value and actual value - if you have a large batch size there will be huge differences in the model \n",
        "          validation_data=(X_val, Y_val)) #overfitting - model performs on seen data and not on unseen data - making the model too familiar with the data - the data performs better on seen data than unseen dat - bad job of making predictions on unseen data - if we don't have a lot of testing data - tradeoff between accuarcy and precision"
      ],
      "execution_count": null,
      "outputs": [
        {
          "output_type": "stream",
          "text": [
            "Epoch 1/100\n",
            "21/21 [==============================] - 1s 26ms/step - loss: 0.6422 - accuracy: 0.7106 - val_loss: 0.6751 - val_accuracy: 0.6222\n",
            "Epoch 2/100\n",
            "21/21 [==============================] - 0s 3ms/step - loss: 0.6426 - accuracy: 0.6715 - val_loss: 0.6737 - val_accuracy: 0.6222\n",
            "Epoch 3/100\n",
            "21/21 [==============================] - 0s 3ms/step - loss: 0.6232 - accuracy: 0.7008 - val_loss: 0.6733 - val_accuracy: 0.6222\n",
            "Epoch 4/100\n",
            "21/21 [==============================] - 0s 3ms/step - loss: 0.6340 - accuracy: 0.6485 - val_loss: 0.6736 - val_accuracy: 0.6222\n",
            "Epoch 5/100\n",
            "21/21 [==============================] - 0s 3ms/step - loss: 0.6225 - accuracy: 0.6610 - val_loss: 0.6741 - val_accuracy: 0.6222\n",
            "Epoch 6/100\n",
            "21/21 [==============================] - 0s 3ms/step - loss: 0.6063 - accuracy: 0.6914 - val_loss: 0.6749 - val_accuracy: 0.6222\n",
            "Epoch 7/100\n",
            "21/21 [==============================] - 0s 3ms/step - loss: 0.6121 - accuracy: 0.6973 - val_loss: 0.6754 - val_accuracy: 0.6222\n",
            "Epoch 8/100\n",
            "21/21 [==============================] - 0s 3ms/step - loss: 0.5945 - accuracy: 0.7101 - val_loss: 0.6759 - val_accuracy: 0.6222\n",
            "Epoch 9/100\n",
            "21/21 [==============================] - 0s 3ms/step - loss: 0.6094 - accuracy: 0.6712 - val_loss: 0.6764 - val_accuracy: 0.6222\n",
            "Epoch 10/100\n",
            "21/21 [==============================] - 0s 3ms/step - loss: 0.6265 - accuracy: 0.6554 - val_loss: 0.6767 - val_accuracy: 0.6222\n",
            "Epoch 11/100\n",
            "21/21 [==============================] - 0s 4ms/step - loss: 0.5923 - accuracy: 0.7131 - val_loss: 0.6768 - val_accuracy: 0.6222\n",
            "Epoch 12/100\n",
            "21/21 [==============================] - 0s 4ms/step - loss: 0.5979 - accuracy: 0.6854 - val_loss: 0.6766 - val_accuracy: 0.6222\n",
            "Epoch 13/100\n",
            "21/21 [==============================] - 0s 3ms/step - loss: 0.6334 - accuracy: 0.6572 - val_loss: 0.6766 - val_accuracy: 0.6222\n",
            "Epoch 14/100\n",
            "21/21 [==============================] - 0s 4ms/step - loss: 0.6058 - accuracy: 0.6773 - val_loss: 0.6761 - val_accuracy: 0.6222\n",
            "Epoch 15/100\n",
            "21/21 [==============================] - 0s 3ms/step - loss: 0.6437 - accuracy: 0.6291 - val_loss: 0.6761 - val_accuracy: 0.6222\n",
            "Epoch 16/100\n",
            "21/21 [==============================] - 0s 3ms/step - loss: 0.5758 - accuracy: 0.7101 - val_loss: 0.6752 - val_accuracy: 0.6222\n",
            "Epoch 17/100\n",
            "21/21 [==============================] - 0s 3ms/step - loss: 0.5914 - accuracy: 0.6876 - val_loss: 0.6743 - val_accuracy: 0.6222\n",
            "Epoch 18/100\n",
            "21/21 [==============================] - 0s 3ms/step - loss: 0.5620 - accuracy: 0.7234 - val_loss: 0.6731 - val_accuracy: 0.6222\n",
            "Epoch 19/100\n",
            "21/21 [==============================] - 0s 3ms/step - loss: 0.5613 - accuracy: 0.7233 - val_loss: 0.6718 - val_accuracy: 0.6222\n",
            "Epoch 20/100\n",
            "21/21 [==============================] - 0s 4ms/step - loss: 0.6048 - accuracy: 0.6577 - val_loss: 0.6711 - val_accuracy: 0.6222\n",
            "Epoch 21/100\n",
            "21/21 [==============================] - 0s 4ms/step - loss: 0.5981 - accuracy: 0.6656 - val_loss: 0.6702 - val_accuracy: 0.6222\n",
            "Epoch 22/100\n",
            "21/21 [==============================] - 0s 3ms/step - loss: 0.5544 - accuracy: 0.7259 - val_loss: 0.6683 - val_accuracy: 0.6222\n",
            "Epoch 23/100\n",
            "21/21 [==============================] - 0s 3ms/step - loss: 0.5960 - accuracy: 0.6588 - val_loss: 0.6670 - val_accuracy: 0.6222\n",
            "Epoch 24/100\n",
            "21/21 [==============================] - 0s 3ms/step - loss: 0.5727 - accuracy: 0.6988 - val_loss: 0.6655 - val_accuracy: 0.6222\n",
            "Epoch 25/100\n",
            "21/21 [==============================] - 0s 4ms/step - loss: 0.5604 - accuracy: 0.6998 - val_loss: 0.6637 - val_accuracy: 0.6222\n",
            "Epoch 26/100\n",
            "21/21 [==============================] - 0s 3ms/step - loss: 0.5940 - accuracy: 0.6548 - val_loss: 0.6621 - val_accuracy: 0.6222\n",
            "Epoch 27/100\n",
            "21/21 [==============================] - 0s 3ms/step - loss: 0.5100 - accuracy: 0.7501 - val_loss: 0.6596 - val_accuracy: 0.6222\n",
            "Epoch 28/100\n",
            "21/21 [==============================] - 0s 4ms/step - loss: 0.5318 - accuracy: 0.7298 - val_loss: 0.6576 - val_accuracy: 0.6222\n",
            "Epoch 29/100\n",
            "21/21 [==============================] - 0s 4ms/step - loss: 0.5760 - accuracy: 0.6810 - val_loss: 0.6567 - val_accuracy: 0.6222\n",
            "Epoch 30/100\n",
            "21/21 [==============================] - 0s 3ms/step - loss: 0.5530 - accuracy: 0.6857 - val_loss: 0.6555 - val_accuracy: 0.6222\n",
            "Epoch 31/100\n",
            "21/21 [==============================] - 0s 3ms/step - loss: 0.5481 - accuracy: 0.7061 - val_loss: 0.6535 - val_accuracy: 0.6222\n",
            "Epoch 32/100\n",
            "21/21 [==============================] - 0s 3ms/step - loss: 0.5646 - accuracy: 0.6688 - val_loss: 0.6519 - val_accuracy: 0.6222\n",
            "Epoch 33/100\n",
            "21/21 [==============================] - 0s 4ms/step - loss: 0.5247 - accuracy: 0.7169 - val_loss: 0.6493 - val_accuracy: 0.6222\n",
            "Epoch 34/100\n",
            "21/21 [==============================] - 0s 3ms/step - loss: 0.5646 - accuracy: 0.6553 - val_loss: 0.6486 - val_accuracy: 0.6222\n",
            "Epoch 35/100\n",
            "21/21 [==============================] - 0s 3ms/step - loss: 0.5213 - accuracy: 0.7149 - val_loss: 0.6462 - val_accuracy: 0.6222\n",
            "Epoch 36/100\n",
            "21/21 [==============================] - 0s 3ms/step - loss: 0.5313 - accuracy: 0.7151 - val_loss: 0.6441 - val_accuracy: 0.6222\n",
            "Epoch 37/100\n",
            "21/21 [==============================] - 0s 3ms/step - loss: 0.5185 - accuracy: 0.7225 - val_loss: 0.6421 - val_accuracy: 0.6222\n",
            "Epoch 38/100\n",
            "21/21 [==============================] - 0s 3ms/step - loss: 0.5398 - accuracy: 0.6972 - val_loss: 0.6404 - val_accuracy: 0.6222\n",
            "Epoch 39/100\n",
            "21/21 [==============================] - 0s 3ms/step - loss: 0.5628 - accuracy: 0.6580 - val_loss: 0.6391 - val_accuracy: 0.6222\n",
            "Epoch 40/100\n",
            "21/21 [==============================] - 0s 3ms/step - loss: 0.5072 - accuracy: 0.7283 - val_loss: 0.6370 - val_accuracy: 0.6222\n",
            "Epoch 41/100\n",
            "21/21 [==============================] - 0s 4ms/step - loss: 0.4966 - accuracy: 0.7396 - val_loss: 0.6331 - val_accuracy: 0.6222\n",
            "Epoch 42/100\n",
            "21/21 [==============================] - 0s 4ms/step - loss: 0.5098 - accuracy: 0.7196 - val_loss: 0.6313 - val_accuracy: 0.6222\n",
            "Epoch 43/100\n",
            "21/21 [==============================] - 0s 4ms/step - loss: 0.5273 - accuracy: 0.6924 - val_loss: 0.6299 - val_accuracy: 0.6222\n",
            "Epoch 44/100\n",
            "21/21 [==============================] - 0s 4ms/step - loss: 0.4918 - accuracy: 0.7419 - val_loss: 0.6261 - val_accuracy: 0.6222\n",
            "Epoch 45/100\n",
            "21/21 [==============================] - 0s 3ms/step - loss: 0.5499 - accuracy: 0.6559 - val_loss: 0.6268 - val_accuracy: 0.6222\n",
            "Epoch 46/100\n",
            "21/21 [==============================] - 0s 3ms/step - loss: 0.4936 - accuracy: 0.7483 - val_loss: 0.6230 - val_accuracy: 0.6222\n",
            "Epoch 47/100\n",
            "21/21 [==============================] - 0s 3ms/step - loss: 0.4678 - accuracy: 0.7721 - val_loss: 0.6203 - val_accuracy: 0.6444\n",
            "Epoch 48/100\n",
            "21/21 [==============================] - 0s 4ms/step - loss: 0.5028 - accuracy: 0.7018 - val_loss: 0.6178 - val_accuracy: 0.6667\n",
            "Epoch 49/100\n",
            "21/21 [==============================] - 0s 4ms/step - loss: 0.5067 - accuracy: 0.7105 - val_loss: 0.6167 - val_accuracy: 0.6667\n",
            "Epoch 50/100\n",
            "21/21 [==============================] - 0s 4ms/step - loss: 0.4547 - accuracy: 0.7644 - val_loss: 0.6135 - val_accuracy: 0.6667\n",
            "Epoch 51/100\n",
            "21/21 [==============================] - 0s 4ms/step - loss: 0.4742 - accuracy: 0.7700 - val_loss: 0.6115 - val_accuracy: 0.6667\n",
            "Epoch 52/100\n",
            "21/21 [==============================] - 0s 3ms/step - loss: 0.4383 - accuracy: 0.7789 - val_loss: 0.6093 - val_accuracy: 0.6667\n",
            "Epoch 53/100\n",
            "21/21 [==============================] - 0s 4ms/step - loss: 0.4495 - accuracy: 0.7668 - val_loss: 0.6070 - val_accuracy: 0.6889\n",
            "Epoch 54/100\n",
            "21/21 [==============================] - 0s 4ms/step - loss: 0.4470 - accuracy: 0.7819 - val_loss: 0.6079 - val_accuracy: 0.6889\n",
            "Epoch 55/100\n",
            "21/21 [==============================] - 0s 3ms/step - loss: 0.4669 - accuracy: 0.7621 - val_loss: 0.6063 - val_accuracy: 0.6889\n",
            "Epoch 56/100\n",
            "21/21 [==============================] - 0s 3ms/step - loss: 0.4813 - accuracy: 0.7414 - val_loss: 0.6054 - val_accuracy: 0.6889\n",
            "Epoch 57/100\n",
            "21/21 [==============================] - 0s 4ms/step - loss: 0.4321 - accuracy: 0.7800 - val_loss: 0.6025 - val_accuracy: 0.6889\n",
            "Epoch 58/100\n",
            "21/21 [==============================] - 0s 3ms/step - loss: 0.4634 - accuracy: 0.7760 - val_loss: 0.6002 - val_accuracy: 0.6889\n",
            "Epoch 59/100\n",
            "21/21 [==============================] - 0s 3ms/step - loss: 0.4526 - accuracy: 0.7811 - val_loss: 0.6006 - val_accuracy: 0.6889\n",
            "Epoch 60/100\n",
            "21/21 [==============================] - 0s 3ms/step - loss: 0.4172 - accuracy: 0.8140 - val_loss: 0.5973 - val_accuracy: 0.7111\n",
            "Epoch 61/100\n",
            "21/21 [==============================] - 0s 4ms/step - loss: 0.4441 - accuracy: 0.7975 - val_loss: 0.5982 - val_accuracy: 0.7111\n",
            "Epoch 62/100\n",
            "21/21 [==============================] - 0s 3ms/step - loss: 0.4177 - accuracy: 0.8216 - val_loss: 0.5944 - val_accuracy: 0.7111\n",
            "Epoch 63/100\n",
            "21/21 [==============================] - 0s 3ms/step - loss: 0.4914 - accuracy: 0.7413 - val_loss: 0.5970 - val_accuracy: 0.7111\n",
            "Epoch 64/100\n",
            "21/21 [==============================] - 0s 3ms/step - loss: 0.4189 - accuracy: 0.8332 - val_loss: 0.5956 - val_accuracy: 0.6889\n",
            "Epoch 65/100\n",
            "21/21 [==============================] - 0s 4ms/step - loss: 0.4579 - accuracy: 0.7835 - val_loss: 0.5984 - val_accuracy: 0.7111\n",
            "Epoch 66/100\n",
            "21/21 [==============================] - 0s 3ms/step - loss: 0.4169 - accuracy: 0.8035 - val_loss: 0.5947 - val_accuracy: 0.7111\n",
            "Epoch 67/100\n",
            "21/21 [==============================] - 0s 3ms/step - loss: 0.4084 - accuracy: 0.8246 - val_loss: 0.5940 - val_accuracy: 0.7111\n",
            "Epoch 68/100\n",
            "21/21 [==============================] - 0s 3ms/step - loss: 0.4133 - accuracy: 0.8232 - val_loss: 0.5912 - val_accuracy: 0.7333\n",
            "Epoch 69/100\n",
            "21/21 [==============================] - 0s 3ms/step - loss: 0.3995 - accuracy: 0.8399 - val_loss: 0.5906 - val_accuracy: 0.7333\n",
            "Epoch 70/100\n",
            "21/21 [==============================] - 0s 3ms/step - loss: 0.4042 - accuracy: 0.8565 - val_loss: 0.5914 - val_accuracy: 0.7556\n",
            "Epoch 71/100\n",
            "21/21 [==============================] - 0s 3ms/step - loss: 0.4152 - accuracy: 0.8525 - val_loss: 0.5905 - val_accuracy: 0.7556\n",
            "Epoch 72/100\n",
            "21/21 [==============================] - 0s 3ms/step - loss: 0.4390 - accuracy: 0.8191 - val_loss: 0.5952 - val_accuracy: 0.7556\n",
            "Epoch 73/100\n",
            "21/21 [==============================] - 0s 4ms/step - loss: 0.3724 - accuracy: 0.8945 - val_loss: 0.5917 - val_accuracy: 0.7556\n",
            "Epoch 74/100\n",
            "21/21 [==============================] - 0s 3ms/step - loss: 0.4186 - accuracy: 0.8581 - val_loss: 0.5947 - val_accuracy: 0.7556\n",
            "Epoch 75/100\n",
            "21/21 [==============================] - 0s 4ms/step - loss: 0.4593 - accuracy: 0.8174 - val_loss: 0.5950 - val_accuracy: 0.7556\n",
            "Epoch 76/100\n",
            "21/21 [==============================] - 0s 4ms/step - loss: 0.4143 - accuracy: 0.8466 - val_loss: 0.5974 - val_accuracy: 0.7556\n",
            "Epoch 77/100\n",
            "21/21 [==============================] - 0s 4ms/step - loss: 0.3752 - accuracy: 0.8712 - val_loss: 0.5932 - val_accuracy: 0.7778\n",
            "Epoch 78/100\n",
            "21/21 [==============================] - 0s 4ms/step - loss: 0.3778 - accuracy: 0.8356 - val_loss: 0.5914 - val_accuracy: 0.7556\n",
            "Epoch 79/100\n",
            "21/21 [==============================] - 0s 3ms/step - loss: 0.3634 - accuracy: 0.8827 - val_loss: 0.5931 - val_accuracy: 0.7556\n",
            "Epoch 80/100\n",
            "21/21 [==============================] - 0s 3ms/step - loss: 0.3550 - accuracy: 0.8745 - val_loss: 0.5946 - val_accuracy: 0.7556\n",
            "Epoch 81/100\n",
            "21/21 [==============================] - 0s 3ms/step - loss: 0.3646 - accuracy: 0.8832 - val_loss: 0.5937 - val_accuracy: 0.7333\n",
            "Epoch 82/100\n",
            "21/21 [==============================] - 0s 4ms/step - loss: 0.3445 - accuracy: 0.8854 - val_loss: 0.5981 - val_accuracy: 0.7556\n",
            "Epoch 83/100\n",
            "21/21 [==============================] - 0s 3ms/step - loss: 0.3738 - accuracy: 0.8504 - val_loss: 0.5963 - val_accuracy: 0.7333\n",
            "Epoch 84/100\n",
            "21/21 [==============================] - 0s 3ms/step - loss: 0.4125 - accuracy: 0.8161 - val_loss: 0.5991 - val_accuracy: 0.7333\n",
            "Epoch 85/100\n",
            "21/21 [==============================] - 0s 3ms/step - loss: 0.4066 - accuracy: 0.8541 - val_loss: 0.5957 - val_accuracy: 0.7333\n",
            "Epoch 86/100\n",
            "21/21 [==============================] - 0s 3ms/step - loss: 0.3665 - accuracy: 0.8384 - val_loss: 0.6012 - val_accuracy: 0.7333\n",
            "Epoch 87/100\n",
            "21/21 [==============================] - 0s 3ms/step - loss: 0.3758 - accuracy: 0.8299 - val_loss: 0.6007 - val_accuracy: 0.7333\n",
            "Epoch 88/100\n",
            "21/21 [==============================] - 0s 3ms/step - loss: 0.3149 - accuracy: 0.8949 - val_loss: 0.6018 - val_accuracy: 0.7333\n",
            "Epoch 89/100\n",
            "21/21 [==============================] - 0s 3ms/step - loss: 0.3990 - accuracy: 0.8461 - val_loss: 0.6068 - val_accuracy: 0.7333\n",
            "Epoch 90/100\n",
            "21/21 [==============================] - 0s 3ms/step - loss: 0.3477 - accuracy: 0.8723 - val_loss: 0.6021 - val_accuracy: 0.7333\n",
            "Epoch 91/100\n",
            "21/21 [==============================] - 0s 4ms/step - loss: 0.3657 - accuracy: 0.8389 - val_loss: 0.6067 - val_accuracy: 0.7333\n",
            "Epoch 92/100\n",
            "21/21 [==============================] - 0s 3ms/step - loss: 0.3355 - accuracy: 0.8833 - val_loss: 0.6020 - val_accuracy: 0.7111\n",
            "Epoch 93/100\n",
            "21/21 [==============================] - 0s 3ms/step - loss: 0.4106 - accuracy: 0.8574 - val_loss: 0.6102 - val_accuracy: 0.7333\n",
            "Epoch 94/100\n",
            "21/21 [==============================] - 0s 3ms/step - loss: 0.3243 - accuracy: 0.8846 - val_loss: 0.6084 - val_accuracy: 0.7333\n",
            "Epoch 95/100\n",
            "21/21 [==============================] - 0s 3ms/step - loss: 0.3871 - accuracy: 0.8232 - val_loss: 0.6196 - val_accuracy: 0.7333\n",
            "Epoch 96/100\n",
            "21/21 [==============================] - 0s 3ms/step - loss: 0.3667 - accuracy: 0.8326 - val_loss: 0.6124 - val_accuracy: 0.7111\n",
            "Epoch 97/100\n",
            "21/21 [==============================] - 0s 3ms/step - loss: 0.3536 - accuracy: 0.8546 - val_loss: 0.6220 - val_accuracy: 0.7333\n",
            "Epoch 98/100\n",
            "21/21 [==============================] - 0s 4ms/step - loss: 0.3479 - accuracy: 0.8781 - val_loss: 0.6182 - val_accuracy: 0.7111\n",
            "Epoch 99/100\n",
            "21/21 [==============================] - 0s 3ms/step - loss: 0.3291 - accuracy: 0.8701 - val_loss: 0.6172 - val_accuracy: 0.7111\n",
            "Epoch 100/100\n",
            "21/21 [==============================] - 0s 3ms/step - loss: 0.3600 - accuracy: 0.8516 - val_loss: 0.6183 - val_accuracy: 0.7111\n"
          ],
          "name": "stdout"
        }
      ]
    },
    {
      "cell_type": "code",
      "metadata": {
        "colab": {
          "base_uri": "https://localhost:8080/"
        },
        "id": "c_5h3b714Vqy",
        "outputId": "ea57760f-00d3-445f-8b99-d6ff98b648e1"
      },
      "source": [
        "model.evaluate(X_test, Y_test)[1]"
      ],
      "execution_count": null,
      "outputs": [
        {
          "output_type": "stream",
          "text": [
            "2/2 [==============================] - 0s 5ms/step - loss: 0.4888 - accuracy: 0.8000\n"
          ],
          "name": "stdout"
        },
        {
          "output_type": "execute_result",
          "data": {
            "text/plain": [
              "0.800000011920929"
            ]
          },
          "metadata": {
            "tags": []
          },
          "execution_count": 17
        }
      ]
    },
    {
      "cell_type": "code",
      "metadata": {
        "colab": {
          "base_uri": "https://localhost:8080/"
        },
        "id": "k04IZs8k1bdz",
        "outputId": "3bc3c7fa-8c6c-40a3-b95e-a6807345836b"
      },
      "source": [
        "y_pred = model.predict_proba(X_test)\n",
        "print(y_pred)"
      ],
      "execution_count": null,
      "outputs": [
        {
          "output_type": "stream",
          "text": [
            "[[0.28524205]\n",
            " [0.6117098 ]\n",
            " [0.14311543]\n",
            " [0.5960081 ]\n",
            " [0.84157264]\n",
            " [0.02804932]\n",
            " [0.03353941]\n",
            " [0.23839113]\n",
            " [0.5302278 ]\n",
            " [0.06344634]\n",
            " [0.7617774 ]\n",
            " [0.88601106]\n",
            " [0.05303079]\n",
            " [0.18726233]\n",
            " [0.8138211 ]\n",
            " [0.0192073 ]\n",
            " [0.5265034 ]\n",
            " [0.7967671 ]\n",
            " [0.3945309 ]\n",
            " [0.22081971]\n",
            " [0.8883985 ]\n",
            " [0.03960919]\n",
            " [0.08421835]\n",
            " [0.13631642]\n",
            " [0.8191916 ]\n",
            " [0.0932554 ]\n",
            " [0.0617575 ]\n",
            " [0.1666407 ]\n",
            " [0.4710663 ]\n",
            " [0.18154863]\n",
            " [0.27657613]\n",
            " [0.06446698]\n",
            " [0.72135353]\n",
            " [0.03981096]\n",
            " [0.01069182]\n",
            " [0.04663271]\n",
            " [0.1363737 ]\n",
            " [0.34434444]\n",
            " [0.16431668]\n",
            " [0.11544266]\n",
            " [0.24734858]\n",
            " [0.36551797]\n",
            " [0.11837   ]\n",
            " [0.3846893 ]\n",
            " [0.37577274]]\n"
          ],
          "name": "stdout"
        },
        {
          "output_type": "stream",
          "text": [
            "/usr/local/lib/python3.7/dist-packages/tensorflow/python/keras/engine/sequential.py:425: UserWarning: `model.predict_proba()` is deprecated and will be removed after 2021-01-01. Please use `model.predict()` instead.\n",
            "  warnings.warn('`model.predict_proba()` is deprecated and '\n"
          ],
          "name": "stderr"
        }
      ]
    },
    {
      "cell_type": "code",
      "metadata": {
        "colab": {
          "base_uri": "https://localhost:8080/",
          "height": 295
        },
        "id": "vvI9_-uVk_IW",
        "outputId": "1b5ecd2a-ca5f-4b79-d120-6fa372f10cad"
      },
      "source": [
        "import matplotlib.pyplot as plt\n",
        "\n",
        "plt.plot(hist.history['loss'])\n",
        "plt.plot(hist.history['val_loss'])\n",
        "plt.title('Model loss')\n",
        "plt.ylabel('Loss')\n",
        "plt.xlabel('Epoch')\n",
        "plt.legend(['Train', 'Val'], loc='upper right')\n",
        "plt.show()"
      ],
      "execution_count": null,
      "outputs": [
        {
          "output_type": "display_data",
          "data": {
            "image/png": "[encoded data removed]",
            "text/plain": [
              "<Figure size 432x288 with 1 Axes>"
            ]
          },
          "metadata": {
            "tags": [],
            "needs_background": "light"
          }
        }
      ]
    },
    {
      "cell_type": "markdown",
      "metadata": {
        "id": "D1wDMDNi2Kzx"
      },
      "source": [
        "Goal to have them as close as possible "
      ]
    },
    {
      "cell_type": "code",
      "metadata": {
        "id": "HndQL-c-OzHh"
      },
      "source": [
        "#from sklearn.metrics import classification_report\n",
        "#classification_report(Y_test,y_pred)"
      ],
      "execution_count": null,
      "outputs": []
    },
    {
      "cell_type": "code",
      "metadata": {
        "id": "KwcYrffKy-Ys"
      },
      "source": [
        "import time"
      ],
      "execution_count": null,
      "outputs": []
    },
    {
      "cell_type": "code",
      "metadata": {
        "colab": {
          "base_uri": "https://localhost:8080/"
        },
        "id": "_3RGjqYty_c7",
        "outputId": "f75b8ccc-0efe-474d-92d4-50eecc424a9e"
      },
      "source": [
        "%timeit encoder.fit(Y)"
      ],
      "execution_count": null,
      "outputs": [
        {
          "output_type": "stream",
          "text": [
            "The slowest run took 12.02 times longer than the fastest. This could mean that an intermediate result is being cached.\n",
            "100000 loops, best of 5: 13.4 µs per loop\n"
          ],
          "name": "stdout"
        }
      ]
    },
    {
      "cell_type": "code",
      "metadata": {
        "colab": {
          "base_uri": "https://localhost:8080/"
        },
        "id": "nzx0FP1lzXJ3",
        "outputId": "9f29a889-a9e0-4a76-a554-ec5887b50140"
      },
      "source": [
        "%timeit model "
      ],
      "execution_count": null,
      "outputs": [
        {
          "output_type": "stream",
          "text": [
            "The slowest run took 37.86 times longer than the fastest. This could mean that an intermediate result is being cached.\n",
            "10000000 loops, best of 5: 32.8 ns per loop\n"
          ],
          "name": "stdout"
        }
      ]
    },
    {
      "cell_type": "code",
      "metadata": {
        "colab": {
          "base_uri": "https://localhost:8080/"
        },
        "id": "D4whgaXZzVvU",
        "outputId": "6e03c6e4-6748-4e02-d53b-55a25c6dce86"
      },
      "source": [
        "%timeit model.compile"
      ],
      "execution_count": null,
      "outputs": [
        {
          "output_type": "stream",
          "text": [
            "The slowest run took 55.49 times longer than the fastest. This could mean that an intermediate result is being cached.\n",
            "10000000 loops, best of 5: 75.2 ns per loop\n"
          ],
          "name": "stdout"
        }
      ]
    },
    {
      "cell_type": "code",
      "metadata": {
        "colab": {
          "base_uri": "https://localhost:8080/"
        },
        "id": "SzOyqZMYzV1j",
        "outputId": "a4d2eb12-8f5c-4007-c7da-e5765ffed9b5"
      },
      "source": [
        "%timeit hist"
      ],
      "execution_count": null,
      "outputs": [
        {
          "output_type": "stream",
          "text": [
            "The slowest run took 32.52 times longer than the fastest. This could mean that an intermediate result is being cached.\n",
            "10000000 loops, best of 5: 39.4 ns per loop\n"
          ],
          "name": "stdout"
        }
      ]
    },
    {
      "cell_type": "code",
      "metadata": {
        "colab": {
          "base_uri": "https://localhost:8080/"
        },
        "id": "dXu727gWzV7C",
        "outputId": "ff2bc6da-5c9f-4fe8-a28b-8e8386ff4ae4"
      },
      "source": [
        "%timeit model.evaluate"
      ],
      "execution_count": null,
      "outputs": [
        {
          "output_type": "stream",
          "text": [
            "The slowest run took 69.15 times longer than the fastest. This could mean that an intermediate result is being cached.\n",
            "10000000 loops, best of 5: 75.5 ns per loop\n"
          ],
          "name": "stdout"
        }
      ]
    },
    {
      "cell_type": "code",
      "metadata": {
        "colab": {
          "base_uri": "https://localhost:8080/"
        },
        "id": "tu_OlqLSzWA6",
        "outputId": "9a223267-c6bd-4db0-93f1-d5fcd17a8840"
      },
      "source": [
        "%timeit y_pred"
      ],
      "execution_count": null,
      "outputs": [
        {
          "output_type": "stream",
          "text": [
            "The slowest run took 51.03 times longer than the fastest. This could mean that an intermediate result is being cached.\n",
            "10000000 loops, best of 5: 33 ns per loop\n"
          ],
          "name": "stdout"
        }
      ]
    },
    {
      "cell_type": "code",
      "metadata": {
        "colab": {
          "base_uri": "https://localhost:8080/"
        },
        "id": "j-RfnySRcbbV",
        "outputId": "bdbeeef0-5fe9-4951-ab39-1d627d366732"
      },
      "source": [
        "pip install memory_profiler"
      ],
      "execution_count": null,
      "outputs": [
        {
          "output_type": "stream",
          "text": [
            "Collecting memory_profiler\n",
            "  Downloading https://files.pythonhosted.org/packages/8f/fd/d92b3295657f8837e0177e7b48b32d6651436f0293af42b76d134c3bb489/memory_profiler-0.58.0.tar.gz\n",
            "Requirement already satisfied: psutil in /usr/local/lib/python3.7/dist-packages (from memory_profiler) (5.4.8)\n",
            "Building wheels for collected packages: memory-profiler\n",
            "  Building wheel for memory-profiler (setup.py) ... \u001b[?25l\u001b[?25hdone\n",
            "  Created wheel for memory-profiler: filename=memory_profiler-0.58.0-cp37-none-any.whl size=30180 sha256=31428f416d17afd16659086e3ed9094de5a424428b5534af07131d7408bb6ea2\n",
            "  Stored in directory: /root/.cache/pip/wheels/02/e4/0b/aaab481fc5dd2a4ea59e78bc7231bb6aae7635ca7ee79f8ae5\n",
            "Successfully built memory-profiler\n",
            "Installing collected packages: memory-profiler\n",
            "Successfully installed memory-profiler-0.58.0\n"
          ],
          "name": "stdout"
        }
      ]
    },
    {
      "cell_type": "code",
      "metadata": {
        "id": "5Id_xpCQcdFL"
      },
      "source": [
        "%load_ext memory_profiler"
      ],
      "execution_count": null,
      "outputs": []
    },
    {
      "cell_type": "code",
      "metadata": {
        "colab": {
          "base_uri": "https://localhost:8080/"
        },
        "id": "12A-0zJJcehC",
        "outputId": "8c950744-f277-4ac8-c9e3-65ee757f5b28"
      },
      "source": [
        "%memit encoder.fit(Y)"
      ],
      "execution_count": null,
      "outputs": [
        {
          "output_type": "stream",
          "text": [
            "peak memory: 404.59 MiB, increment: 0.00 MiB\n"
          ],
          "name": "stdout"
        }
      ]
    },
    {
      "cell_type": "code",
      "metadata": {
        "colab": {
          "base_uri": "https://localhost:8080/"
        },
        "id": "dZXKQXaTc5HP",
        "outputId": "ab82a190-cf21-41b4-87b0-498f589557ef"
      },
      "source": [
        "%memit model"
      ],
      "execution_count": null,
      "outputs": [
        {
          "output_type": "stream",
          "text": [
            "peak memory: 426.09 MiB, increment: 0.03 MiB\n"
          ],
          "name": "stdout"
        }
      ]
    },
    {
      "cell_type": "code",
      "metadata": {
        "colab": {
          "base_uri": "https://localhost:8080/"
        },
        "id": "hsKAWtDZc64Z",
        "outputId": "ce6f36b4-4c77-4f83-fb1b-263dd0ef15eb"
      },
      "source": [
        "%memit model.compile"
      ],
      "execution_count": null,
      "outputs": [
        {
          "output_type": "stream",
          "text": [
            "peak memory: 426.28 MiB, increment: 0.00 MiB\n"
          ],
          "name": "stdout"
        }
      ]
    },
    {
      "cell_type": "code",
      "metadata": {
        "colab": {
          "base_uri": "https://localhost:8080/"
        },
        "id": "zrX_8Jhnc9mZ",
        "outputId": "53f37944-fc9d-49ab-8e62-1d2870dac202"
      },
      "source": [
        "%memit hist"
      ],
      "execution_count": null,
      "outputs": [
        {
          "output_type": "stream",
          "text": [
            "peak memory: 426.63 MiB, increment: 0.00 MiB\n"
          ],
          "name": "stdout"
        }
      ]
    },
    {
      "cell_type": "code",
      "metadata": {
        "colab": {
          "base_uri": "https://localhost:8080/"
        },
        "id": "LtUE1Bm8dAFT",
        "outputId": "4116a09a-caa1-493e-ec23-1f7ba0d579d0"
      },
      "source": [
        "%memit model.evaluate"
      ],
      "execution_count": null,
      "outputs": [
        {
          "output_type": "stream",
          "text": [
            "peak memory: 426.80 MiB, increment: 0.00 MiB\n"
          ],
          "name": "stdout"
        }
      ]
    },
    {
      "cell_type": "code",
      "metadata": {
        "colab": {
          "base_uri": "https://localhost:8080/"
        },
        "id": "7CcZLFA_dC4H",
        "outputId": "adb0edaf-a714-4cd6-8a63-7dfcbdcf62a3"
      },
      "source": [
        "%memit y_pred"
      ],
      "execution_count": null,
      "outputs": [
        {
          "output_type": "stream",
          "text": [
            "peak memory: 426.88 MiB, increment: 0.00 MiB\n"
          ],
          "name": "stdout"
        }
      ]
    },
    {
      "cell_type": "code",
      "metadata": {
        "id": "VW8kWYD_Cw__"
      },
      "source": [
        "import numpy as np"
      ],
      "execution_count": null,
      "outputs": []
    },
    {
      "cell_type": "code",
      "metadata": {
        "id": "IBPw5094Cc03"
      },
      "source": [
        "#Cost assumptions\n",
        "'''Cost of FP: 1, cost of FN: 2, cost of TN: 0, cost of TP: -1'''\n",
        "cost_TP = -1; cost_FP = 1; cost_FN = 2; cost_TN = 0;\n",
        "cb_matrix = -1*np.array([[cost_TP, cost_FP],[cost_FN, cost_TN]])"
      ],
      "execution_count": null,
      "outputs": []
    },
    {
      "cell_type": "code",
      "metadata": {
        "id": "cRiU19UPCiw8"
      },
      "source": [
        "def standard_confusion_matrix(y_true, y_predict):\n",
        "    TP = sum((y_true == 1) & (y_predict == 1))\n",
        "    TN = sum((y_true == 0) & (y_predict == 0))\n",
        "    FP = sum((y_true == 0) & (y_predict == 1))\n",
        "    FN = sum((y_true == 1) & (y_predict == 0))\n",
        "    \n",
        "    return np.array([[TP,FP],[FN,TN]])"
      ],
      "execution_count": null,
      "outputs": []
    },
    {
      "cell_type": "code",
      "metadata": {
        "id": "W06oen0HClGW"
      },
      "source": [
        "def profit_curve(cb, predict_probas, labels):\n",
        "    indices = np.argsort(predict_probas)\n",
        "    sorted_probs = predict_probas[indices]\n",
        "    sorted_labels = labels[indices]\n",
        "    \n",
        "    profit_list = []\n",
        "    \n",
        "    for sp, sl in zip(sorted_probs, sorted_labels):\n",
        "        predict_labels = sorted_probs > sp + .0001\n",
        "        conf_mat = standard_confusion_matrix(sorted_labels, predict_labels)\n",
        "        profit_list.append((cb * conf_mat).sum() / float(len(labels)))\n",
        "    return profit_list, sorted_probs"
      ],
      "execution_count": null,
      "outputs": []
    },
    {
      "cell_type": "code",
      "metadata": {
        "id": "YzbkyokuCnVX"
      },
      "source": [
        "def plot_profit_curve(model, label, costbenefit, X_train, X_test, y_train, y_test, col):\n",
        "    model.fit(X_train, y_train)\n",
        "    predict_probas = model.predict_proba(X_test)[:,0]\n",
        "    profit_list, sorted_probs = profit_curve(costbenefit, predict_probas, y_test)\n",
        "    max_index = np.argmax(profit_list)\n",
        "    max_threshold = sorted_probs[max_index]\n",
        "    max_profit = profit_list[max_index]\n",
        "    \n",
        "    plt.plot(sorted_probs, profit_list, label=label, color=col, linewidth=3)\n",
        "    plt.plot(max_threshold, max_profit, '.', color=col, markersize=18)"
      ],
      "execution_count": null,
      "outputs": []
    },
    {
      "cell_type": "code",
      "metadata": {
        "id": "PUDtAsmTCp1-"
      },
      "source": [
        "import pandas as pd\n",
        "import math\n",
        "import numpy as np\n",
        "import matplotlib.pyplot as plt\n",
        "from sklearn.preprocessing import StandardScaler\n",
        "%matplotlib inline"
      ],
      "execution_count": null,
      "outputs": []
    },
    {
      "cell_type": "code",
      "metadata": {
        "colab": {
          "base_uri": "https://localhost:8080/",
          "height": 585
        },
        "id": "XscwyY54CsJw",
        "outputId": "e14789f8-d955-4651-a133-c060a8d1197b"
      },
      "source": [
        "models = [model]\n",
        "fig = plt.figure(figsize=(10,8))\n",
        "# fig.set_facecolor('#F2F2F2')\n",
        "colors = ['r', 'g', 'b', 'm']\n",
        "for i, model in enumerate(models):\n",
        "    plot_profit_curve(model, model.__class__.__name__, cb_matrix,\n",
        "                      X_train, X_test, Y_train, Y_test, colors[i])\n",
        "plt.title(\"Profit Curves\")\n",
        "plt.xlabel(\"Percentage of test instances (decreasing by score)\")\n",
        "plt.ylabel(\"Profit\")\n",
        "plt.legend(loc='lower right')\n",
        "plt.savefig('Profit_curve.png', facecolor=fig.get_facecolor())\n",
        "plt.show()"
      ],
      "execution_count": null,
      "outputs": [
        {
          "output_type": "stream",
          "text": [
            "7/7 [==============================] - 0s 2ms/step - loss: 0.3445 - accuracy: 0.8565\n"
          ],
          "name": "stdout"
        },
        {
          "output_type": "stream",
          "text": [
            "/usr/local/lib/python3.7/dist-packages/tensorflow/python/keras/engine/sequential.py:425: UserWarning: `model.predict_proba()` is deprecated and will be removed after 2021-01-01. Please use `model.predict()` instead.\n",
            "  warnings.warn('`model.predict_proba()` is deprecated and '\n"
          ],
          "name": "stderr"
        },
        {
          "output_type": "display_data",
          "data": {
            "image/png": "[encoded data removed]",
            "text/plain": [
              "<Figure size 720x576 with 1 Axes>"
            ]
          },
          "metadata": {
            "tags": [],
            "needs_background": "light"
          }
        }
      ]
    },
    {
      "cell_type": "code",
      "metadata": {
        "id": "ditbJ6UzObEB"
      },
      "source": [
        "from sklearn.metrics import classification_report"
      ],
      "execution_count": null,
      "outputs": []
    },
    {
      "cell_type": "code",
      "metadata": {
        "id": "Oqol09Z6OngV"
      },
      "source": [
        "report = classification_report(Y_test,y_pred.round(),output_dict = True)\n",
        "import seaborn as sns\n",
        "sns.heatmap(pd.DataFrame(report).iloc[:-1, :].T, annot=True)"
      ],
      "execution_count": null,
      "outputs": []
    },
    {
      "cell_type": "code",
      "metadata": {
        "id": "Sju3-q2WOp15"
      },
      "source": [
        "from sklearn.metrics import confusion_matrix\n",
        "cf_matrix = confusion_matrix(Y_test,y_pred.round(),normalize=None)\n",
        "print(cf_matrix)"
      ],
      "execution_count": null,
      "outputs": []
    },
    {
      "cell_type": "code",
      "metadata": {
        "id": "8jKpPHNmOr51"
      },
      "source": [
        "import seaborn as sns\n",
        "import numpy as np"
      ],
      "execution_count": null,
      "outputs": []
    },
    {
      "cell_type": "code",
      "metadata": {
        "id": "MwHCdhwuOtAA"
      },
      "source": [
        "group_names = ['True Neg','false Pos','False Neg','True Pos']\n",
        "group_counts = ['{0:0.0f}'.format(value) for value in\n",
        "                cf_matrix.flatten()]\n",
        "group_percentages = ['{0:.2%}'.format(value) for value in\n",
        "                     cf_matrix.flatten()/np.sum(cf_matrix)]\n",
        "labels = [f'{v1}\\n{v2}\\n{v3}' for v1, v2, v3 in\n",
        "          zip(group_names,group_counts,group_percentages)]\n",
        "labels = np.asarray(labels).reshape(2,2)\n",
        "sns.heatmap(cf_matrix, annot=labels, fmt='', cmap='Blues')"
      ],
      "execution_count": null,
      "outputs": []
    },
    {
      "cell_type": "code",
      "metadata": {
        "id": "jgLSXT2mOvJH"
      },
      "source": [
        "from sklearn.metrics import roc_auc_score\n",
        "auc_score1 = roc_auc_score(Y_test, y_pred)\n",
        "print(auc_score1)"
      ],
      "execution_count": null,
      "outputs": []
    },
    {
      "cell_type": "code",
      "metadata": {
        "id": "AmiRcDcFOxk8"
      },
      "source": [
        "from sklearn import metrics\n",
        "import matplotlib.pyplot as plt\n",
        "fpr, tpr, thresholds = metrics.plot_roc_curve(hist, X_test, Y_test)\n",
        "plt.show()\n"
      ],
      "execution_count": null,
      "outputs": []
    },
    {
      "cell_type": "code",
      "metadata": {
        "id": "qwA5g7ECO158"
      },
      "source": [
        "from sklearn.metrics import roc_curve\n",
        "from sklearn.metrics import roc_auc_score\n",
        "from matplotlib import pyplot\n",
        "fpr, tpr, thresholds = roc_curve(Y_test,y_pred)\n",
        "roc_curve = round(auc(fpr,tpr),2)\n",
        "pyplot.title(label='ROC curve')\n",
        "pyplot.plot(fpr, tpr, label='NeuralNetworks (AUC = ' + str(roc_curve) + ')')\n",
        "\n",
        "# axis labels\n",
        "pyplot.xlabel('False Positive Rate')\n",
        "pyplot.ylabel('True Positive Rate')\n",
        "# show the legend\n",
        "pyplot.legend()\n",
        "# show the plot\n",
        "pyplot.show()"
      ],
      "execution_count": null,
      "outputs": []
    },
    {
      "cell_type": "markdown",
      "metadata": {
        "id": "4fjpXZiEO9Hd"
      },
      "source": [
        "https://stackoverflow.com/questions/28200786/how-to-plot-scikit-learn-classification-report\n",
        "https://medium.com/@dtuk81/confusion-matrix-visualization-fc31e3f30fea\n",
        "https://github.com/SydneyLauren/Profit-curves-and-xkcd-plotting\n",
        "https://community.datarobot.com/t5/resources/profit-curve/ta-p/7389\n",
        "https://www.analyticsvidhya.com/blog/2020/06/auc-roc-curve-machine-learning/\n",
        "https://machinelearningmastery.com/roc-curves-and-precision-recall-curves-for-classification-in-python/\n",
        "https://towardsdatascience.com/understanding-auc-roc-curve-68b2303cc9c5\n",
        "https://gist.github.com/fclesio/bb5871281debc07d75127552c56b08b5\n",
        "https://stackoverflow.com/questions/61705257/sklearn-plotting-classification-report-gives-a-different-output-than-basic-avg\n",
        "https://www.pyimagesearch.com/2016/08/15/how-to-tune-hyperparameters-with-python-and-scikit-learn/\n",
        "https://towardsdatascience.com/\n",
        "https://towardsdatascience.com/how-to-build-your-own-neural-network-from-scratch-in-python-68998a08e4f6 \n",
        "https://medium.com/towards-artificial-intelligence/building-neural-networks-from-scratch-with-python-code-and-math-in-detail-i-536fae5d7bbf?source=friends_link&sk=d57ab366558ee8d88909495e69446969\n",
        "https://github.com/mnielsen/neural-networks-and-deep-learning/blob/master/src/network.py\n",
        "https://github.com/mnielsen/neural-networks-and-deep-learning\n",
        "https://pub.towardsai.net/building-neural-networks-from-scratch-with-python-code-and-math-in-detail-i-536fae5d7bbf\n"
      ]
    }
  ]
}